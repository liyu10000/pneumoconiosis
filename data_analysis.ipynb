{
 "cells": [
  {
   "cell_type": "code",
   "execution_count": 5,
   "metadata": {},
   "outputs": [],
   "source": [
    "import os\n",
    "import shutil\n",
    "import numpy as np\n",
    "import pandas as pd\n",
    "import matplotlib.pyplot as plt\n",
    "%matplotlib inline"
   ]
  },
  {
   "cell_type": "code",
   "execution_count": 6,
   "metadata": {},
   "outputs": [
    {
     "name": "stdout",
     "output_type": "stream",
     "text": [
      "(112120, 12)\n"
     ]
    },
    {
     "data": {
      "text/html": [
       "<div>\n",
       "<style scoped>\n",
       "    .dataframe tbody tr th:only-of-type {\n",
       "        vertical-align: middle;\n",
       "    }\n",
       "\n",
       "    .dataframe tbody tr th {\n",
       "        vertical-align: top;\n",
       "    }\n",
       "\n",
       "    .dataframe thead th {\n",
       "        text-align: right;\n",
       "    }\n",
       "</style>\n",
       "<table border=\"1\" class=\"dataframe\">\n",
       "  <thead>\n",
       "    <tr style=\"text-align: right;\">\n",
       "      <th></th>\n",
       "      <th>Image Index</th>\n",
       "      <th>Finding Labels</th>\n",
       "      <th>Follow-up #</th>\n",
       "      <th>Patient ID</th>\n",
       "      <th>Patient Age</th>\n",
       "      <th>Patient Gender</th>\n",
       "      <th>View Position</th>\n",
       "      <th>OriginalImage[Width</th>\n",
       "      <th>Height]</th>\n",
       "      <th>OriginalImagePixelSpacing[x</th>\n",
       "      <th>y]</th>\n",
       "      <th>Unnamed: 11</th>\n",
       "    </tr>\n",
       "  </thead>\n",
       "  <tbody>\n",
       "    <tr>\n",
       "      <th>0</th>\n",
       "      <td>00000001_000.png</td>\n",
       "      <td>Cardiomegaly</td>\n",
       "      <td>0</td>\n",
       "      <td>1</td>\n",
       "      <td>58</td>\n",
       "      <td>M</td>\n",
       "      <td>PA</td>\n",
       "      <td>2682</td>\n",
       "      <td>2749</td>\n",
       "      <td>0.143</td>\n",
       "      <td>0.143</td>\n",
       "      <td>NaN</td>\n",
       "    </tr>\n",
       "    <tr>\n",
       "      <th>1</th>\n",
       "      <td>00000001_001.png</td>\n",
       "      <td>Cardiomegaly|Emphysema</td>\n",
       "      <td>1</td>\n",
       "      <td>1</td>\n",
       "      <td>58</td>\n",
       "      <td>M</td>\n",
       "      <td>PA</td>\n",
       "      <td>2894</td>\n",
       "      <td>2729</td>\n",
       "      <td>0.143</td>\n",
       "      <td>0.143</td>\n",
       "      <td>NaN</td>\n",
       "    </tr>\n",
       "    <tr>\n",
       "      <th>2</th>\n",
       "      <td>00000001_002.png</td>\n",
       "      <td>Cardiomegaly|Effusion</td>\n",
       "      <td>2</td>\n",
       "      <td>1</td>\n",
       "      <td>58</td>\n",
       "      <td>M</td>\n",
       "      <td>PA</td>\n",
       "      <td>2500</td>\n",
       "      <td>2048</td>\n",
       "      <td>0.168</td>\n",
       "      <td>0.168</td>\n",
       "      <td>NaN</td>\n",
       "    </tr>\n",
       "    <tr>\n",
       "      <th>3</th>\n",
       "      <td>00000002_000.png</td>\n",
       "      <td>No Finding</td>\n",
       "      <td>0</td>\n",
       "      <td>2</td>\n",
       "      <td>81</td>\n",
       "      <td>M</td>\n",
       "      <td>PA</td>\n",
       "      <td>2500</td>\n",
       "      <td>2048</td>\n",
       "      <td>0.171</td>\n",
       "      <td>0.171</td>\n",
       "      <td>NaN</td>\n",
       "    </tr>\n",
       "    <tr>\n",
       "      <th>4</th>\n",
       "      <td>00000003_000.png</td>\n",
       "      <td>Hernia</td>\n",
       "      <td>0</td>\n",
       "      <td>3</td>\n",
       "      <td>81</td>\n",
       "      <td>F</td>\n",
       "      <td>PA</td>\n",
       "      <td>2582</td>\n",
       "      <td>2991</td>\n",
       "      <td>0.143</td>\n",
       "      <td>0.143</td>\n",
       "      <td>NaN</td>\n",
       "    </tr>\n",
       "  </tbody>\n",
       "</table>\n",
       "</div>"
      ],
      "text/plain": [
       "        Image Index          Finding Labels  Follow-up #  Patient ID  \\\n",
       "0  00000001_000.png            Cardiomegaly            0           1   \n",
       "1  00000001_001.png  Cardiomegaly|Emphysema            1           1   \n",
       "2  00000001_002.png   Cardiomegaly|Effusion            2           1   \n",
       "3  00000002_000.png              No Finding            0           2   \n",
       "4  00000003_000.png                  Hernia            0           3   \n",
       "\n",
       "   Patient Age Patient Gender View Position  OriginalImage[Width  Height]  \\\n",
       "0           58              M            PA                 2682     2749   \n",
       "1           58              M            PA                 2894     2729   \n",
       "2           58              M            PA                 2500     2048   \n",
       "3           81              M            PA                 2500     2048   \n",
       "4           81              F            PA                 2582     2991   \n",
       "\n",
       "   OriginalImagePixelSpacing[x     y]  Unnamed: 11  \n",
       "0                        0.143  0.143          NaN  \n",
       "1                        0.143  0.143          NaN  \n",
       "2                        0.168  0.168          NaN  \n",
       "3                        0.171  0.171          NaN  \n",
       "4                        0.143  0.143          NaN  "
      ]
     },
     "execution_count": 6,
     "metadata": {},
     "output_type": "execute_result"
    }
   ],
   "source": [
    "data_entry = './CHESTXRAY/Data_Entry_2017.csv'\n",
    "df = pd.read_csv(data_entry)\n",
    "print(df.shape)\n",
    "df.head()"
   ]
  },
  {
   "cell_type": "code",
   "execution_count": 7,
   "metadata": {
    "scrolled": true
   },
   "outputs": [
    {
     "data": {
      "text/plain": [
       "No Finding                                                                                              60361\n",
       "Infiltration                                                                                             9547\n",
       "Atelectasis                                                                                              4215\n",
       "Effusion                                                                                                 3955\n",
       "Nodule                                                                                                   2705\n",
       "Pneumothorax                                                                                             2194\n",
       "Mass                                                                                                     2139\n",
       "Effusion|Infiltration                                                                                    1603\n",
       "Atelectasis|Infiltration                                                                                 1350\n",
       "Consolidation                                                                                            1310\n",
       "Atelectasis|Effusion                                                                                     1165\n",
       "Pleural_Thickening                                                                                       1126\n",
       "Cardiomegaly                                                                                             1093\n",
       "Emphysema                                                                                                 892\n",
       "Infiltration|Nodule                                                                                       829\n",
       "Atelectasis|Effusion|Infiltration                                                                         737\n",
       "Fibrosis                                                                                                  727\n",
       "Edema                                                                                                     628\n",
       "Cardiomegaly|Effusion                                                                                     484\n",
       "Consolidation|Infiltration                                                                                441\n",
       "Infiltration|Mass                                                                                         420\n",
       "Effusion|Pneumothorax                                                                                     403\n",
       "Effusion|Mass                                                                                             402\n",
       "Atelectasis|Consolidation                                                                                 398\n",
       "Mass|Nodule                                                                                               394\n",
       "Edema|Infiltration                                                                                        392\n",
       "Infiltration|Pneumothorax                                                                                 345\n",
       "Emphysema|Pneumothorax                                                                                    337\n",
       "Consolidation|Effusion                                                                                    337\n",
       "Pneumonia                                                                                                 322\n",
       "                                                                                                        ...  \n",
       "Consolidation|Mass|Pleural_Thickening|Pneumothorax                                                          1\n",
       "Atelectasis|Emphysema|Fibrosis|Pleural_Thickening                                                           1\n",
       "Cardiomegaly|Consolidation|Effusion|Mass|Pneumothorax                                                       1\n",
       "Consolidation|Edema|Effusion|Pneumothorax                                                                   1\n",
       "Atelectasis|Cardiomegaly|Fibrosis|Mass|Pneumothorax                                                         1\n",
       "Atelectasis|Consolidation|Effusion|Fibrosis|Infiltration|Mass|Nodule|Pleural_Thickening|Pneumothorax        1\n",
       "Atelectasis|Consolidation|Edema|Effusion|Infiltration|Pneumonia                                             1\n",
       "Edema|Effusion|Hernia|Infiltration                                                                          1\n",
       "Consolidation|Edema|Pleural_Thickening                                                                      1\n",
       "Edema|Pneumonia|Infiltration                                                                                1\n",
       "Emphysema|Fibrosis|Mass|Pleural_Thickening|Pneumothorax                                                     1\n",
       "Fibrosis|Hernia|Mass                                                                                        1\n",
       "Effusion|Emphysema|Nodule|Pleural_Thickening                                                                1\n",
       "Atelectasis|Cardiomegaly|Consolidation|Edema                                                                1\n",
       "Atelectasis|Consolidation|Edema|Effusion|Pleural_Thickening                                                 1\n",
       "Emphysema|Infiltration|Nodule|Pleural_Thickening|Pneumothorax                                               1\n",
       "Cardiomegaly|Consolidation|Edema|Effusion|Mass|Nodule|Pleural_Thickening                                    1\n",
       "Atelectasis|Consolidation|Effusion|Emphysema|Nodule|Pneumothorax                                            1\n",
       "Atelectasis|Hernia|Mass                                                                                     1\n",
       "Effusion|Fibrosis|Infiltration|Mass                                                                         1\n",
       "Consolidation|Pneumonia|Pneumothorax                                                                        1\n",
       "Emphysema|Fibrosis|Hernia|Mass                                                                              1\n",
       "Hernia|Infiltration|Pneumothorax                                                                            1\n",
       "Consolidation|Infiltration|Nodule|Pneumothorax                                                              1\n",
       "Edema|Effusion|Infiltration|Pneumothorax                                                                    1\n",
       "Consolidation|Edema|Effusion|Mass|Nodule                                                                    1\n",
       "Infiltration|Cardiomegaly                                                                                   1\n",
       "Atelectasis|Effusion|Fibrosis|Infiltration|Nodule                                                           1\n",
       "Cardiomegaly|Consolidation|Effusion|Infiltration|Mass|Nodule                                                1\n",
       "Emphysema|Hernia|Pleural_Thickening                                                                         1\n",
       "Name: Finding Labels, Length: 836, dtype: int64"
      ]
     },
     "execution_count": 7,
     "metadata": {},
     "output_type": "execute_result"
    }
   ],
   "source": [
    "# get counts of items under each entry (note: one entry may have multiple classes)\n",
    "df['Finding Labels'].value_counts()"
   ]
  },
  {
   "cell_type": "markdown",
   "metadata": {},
   "source": [
    "### Get class names in data entry\n",
    " - __14 abnormal__: 'Infiltration', 'Atelectasis', 'Edema', 'Pneumothorax', 'Pneumonia', 'Effusion', 'Emphysema', 'Cardiomegaly', 'Fibrosis', 'Hernia', 'Consolidation', 'Nodule', 'Pleural_Thickening', 'Mass'\n",
    " - __1 normal__: 'No Finding'"
   ]
  },
  {
   "cell_type": "code",
   "execution_count": 8,
   "metadata": {
    "scrolled": false
   },
   "outputs": [
    {
     "name": "stdout",
     "output_type": "stream",
     "text": [
      "['Atelectasis', 'Edema', 'Fibrosis', 'Consolidation', 'Cardiomegaly', 'Pleural_Thickening', 'Nodule', 'Mass', 'Pneumonia', 'Infiltration', 'No Finding', 'Hernia', 'Effusion', 'Pneumothorax', 'Emphysema']\n"
     ]
    }
   ],
   "source": [
    "# get names of classes\n",
    "entries = df['Finding Labels'].value_counts().index.values.tolist()\n",
    "classes = set()\n",
    "for entry in entries:\n",
    "    tokens = entry.split('|')\n",
    "    for token in tokens:\n",
    "        classes.add(token)\n",
    "classes = list(classes)\n",
    "print(classes)"
   ]
  },
  {
   "cell_type": "markdown",
   "metadata": {},
   "source": [
    "### Select and split images into 2 different folders\n",
    " - __normal__: train/valid/test (0.8/0.1/0.1)\n",
    " - __abnormal__: train/valid/test (0.8/0.1/0.1)"
   ]
  },
  {
   "cell_type": "code",
   "execution_count": 14,
   "metadata": {},
   "outputs": [],
   "source": [
    "# copy images\n",
    "image_dir = './images'\n",
    "normal_dir = './binary/normal'\n",
    "abnormal_dir = './binary/abnormal'\n",
    "os.makedirs(normal_dir, exist_ok=True)\n",
    "os.makedirs(abnormal_dir, exist_ok=True)\n",
    "for index, row in df.iterrows():\n",
    "    image_index = row['Image Index']\n",
    "    entry_labels = row['Finding Labels']\n",
    "    if entry_labels == 'No Finding':\n",
    "        shutil.copyfile(os.path.join(image_dir, image_index), os.path.join(normal_dir, image_index))\n",
    "    else:\n",
    "        shutil.copyfile(os.path.join(image_dir, image_index), os.path.join(abnormal_dir, image_index))"
   ]
  },
  {
   "cell_type": "code",
   "execution_count": 19,
   "metadata": {},
   "outputs": [],
   "source": [
    "from random import sample\n",
    "# split images into train/valid/test sub folders\n",
    "def split(folder, valid_f=0.1, test_f=0.1):\n",
    "    train = os.path.join(folder, 'train')\n",
    "    valid = os.path.join(folder, 'valid')\n",
    "    test = os.path.join(folder, 'test')\n",
    "    os.makedirs(train, exist_ok=True)\n",
    "    os.makedirs(valid, exist_ok=True)\n",
    "    os.makedirs(test, exist_ok=True)\n",
    "    number = len(os.listdir(folder))\n",
    "    valid_list = sample(os.listdir(folder), int(number*valid_f))\n",
    "    for f in valid_list:\n",
    "        shutil.move(os.path.join(folder, f), valid)\n",
    "    test_list = sample(os.listdir(folder), int(number*test_f))\n",
    "    for f in test_list:\n",
    "        shutil.move(os.path.join(folder, f), test)\n",
    "    for f in os.listdir(folder):\n",
    "        shutil.move(os.path.join(folder, f), train)\n",
    "\n",
    "split(normal_dir)\n",
    "split(abnormal_dir)"
   ]
  },
  {
   "cell_type": "markdown",
   "metadata": {},
   "source": [
    "### Select and split images into 15 different folders\n",
    "note: since one image may have multiple diagnoses, one image may appear in different folders"
   ]
  },
  {
   "cell_type": "code",
   "execution_count": 5,
   "metadata": {},
   "outputs": [
    {
     "name": "stdout",
     "output_type": "stream",
     "text": [
      "{'Infiltration': 19894, 'Atelectasis': 11559, 'Edema': 2303, 'Pneumothorax': 5302, 'Pneumonia': 1431, 'Effusion': 13317, 'Cardiomegaly': 2776, 'Hernia': 227, 'No Finding': 60361, 'Consolidation': 4667, 'Fibrosis': 1686, 'Nodule': 6331, 'Emphysema': 2516, 'Pleural_Thickening': 3385, 'Mass': 5782}\n"
     ]
    }
   ],
   "source": [
    "# get counts and image index of items under each class\n",
    "class_sum = {key:[] for key in classes}\n",
    "for index, row in df.iterrows():\n",
    "    image_index = row['Image Index']\n",
    "    entry_labels = row['Finding Labels']\n",
    "    tokens = entry_labels.split('|')\n",
    "    for token in tokens:\n",
    "        class_sum[token].append(image_index)\n",
    "print({key:len(class_sum[key]) for key in class_sum})"
   ]
  },
  {
   "cell_type": "code",
   "execution_count": 10,
   "metadata": {},
   "outputs": [
    {
     "data": {
      "image/png": "[encoded data removed]",
      "text/plain": [
       "<Figure size 864x432 with 1 Axes>"
      ]
     },
     "metadata": {},
     "output_type": "display_data"
    }
   ],
   "source": [
    "# plot class-count histogram\n",
    "x = classes\n",
    "y = [len(class_sum[key]) for key in classes]\n",
    "fig, ax = plt.subplots(figsize=(12, 6))\n",
    "ax.bar(x, y)\n",
    "fig.autofmt_xdate()\n",
    "plt.show()"
   ]
  },
  {
   "cell_type": "code",
   "execution_count": null,
   "metadata": {},
   "outputs": [],
   "source": []
  }
 ],
 "metadata": {
  "kernelspec": {
   "display_name": "Python 3",
   "language": "python",
   "name": "python3"
  },
  "language_info": {
   "codemirror_mode": {
    "name": "ipython",
    "version": 3
   },
   "file_extension": ".py",
   "mimetype": "text/x-python",
   "name": "python",
   "nbconvert_exporter": "python",
   "pygments_lexer": "ipython3",
   "version": "3.5.2"
  }
 },
 "nbformat": 4,
 "nbformat_minor": 2
}
