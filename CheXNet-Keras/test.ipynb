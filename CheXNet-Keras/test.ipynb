{
 "cells": [
  {
   "cell_type": "code",
   "execution_count": 1,
   "metadata": {},
   "outputs": [
    {
     "name": "stderr",
     "output_type": "stream",
     "text": [
      "Using TensorFlow backend.\n"
     ]
    }
   ],
   "source": [
    "import numpy as np\n",
    "import os\n",
    "from configparser import ConfigParser\n",
    "from generator import AugmentedImageSequence\n",
    "from models.keras import ModelFactory\n",
    "from sklearn.metrics import roc_auc_score\n",
    "from utility import get_sample_counts"
   ]
  },
  {
   "cell_type": "code",
   "execution_count": 2,
   "metadata": {},
   "outputs": [
    {
     "name": "stderr",
     "output_type": "stream",
     "text": [
      "/home/pneumoconiosis/CheXNet-Keras/utility.py:21: FutureWarning: Method .as_matrix will be removed in a future version. Use .values instead.\n",
      "  labels = df[class_names].as_matrix()\n"
     ]
    }
   ],
   "source": [
    "# parser config\n",
    "config_file = \"./config.ini\"\n",
    "cp = ConfigParser()\n",
    "cp.read(config_file)\n",
    "\n",
    "# default config\n",
    "output_dir = cp[\"DEFAULT\"].get(\"output_dir\")\n",
    "base_model_name = cp[\"DEFAULT\"].get(\"base_model_name\")\n",
    "class_names = cp[\"DEFAULT\"].get(\"class_names\").split(\",\")\n",
    "image_source_dir = cp[\"DEFAULT\"].get(\"image_source_dir\")\n",
    "\n",
    "# train config\n",
    "image_dimension = cp[\"TRAIN\"].getint(\"image_dimension\")\n",
    "\n",
    "# test config\n",
    "batch_size = cp[\"TEST\"].getint(\"batch_size\")\n",
    "test_steps = cp[\"TEST\"].get(\"test_steps\")\n",
    "use_best_weights = cp[\"TEST\"].getboolean(\"use_best_weights\")\n",
    "\n",
    "# parse weights file path\n",
    "output_weights_name = cp[\"TRAIN\"].get(\"output_weights_name\")\n",
    "weights_path = os.path.join(output_dir, output_weights_name)\n",
    "best_weights_path = os.path.join(output_dir, \"best_{}\".format(output_weights_name))\n",
    "\n",
    "# get test sample count\n",
    "test_counts, _ = get_sample_counts(output_dir, \"test\", class_names)"
   ]
  },
  {
   "cell_type": "code",
   "execution_count": 3,
   "metadata": {},
   "outputs": [
    {
     "name": "stdout",
     "output_type": "stream",
     "text": [
      "** test_steps: 47 **\n"
     ]
    }
   ],
   "source": [
    "# compute steps\n",
    "if test_steps == \"auto\":\n",
    "    test_steps = int(test_counts / batch_size)\n",
    "else:\n",
    "    try:\n",
    "        test_steps = int(test_steps)\n",
    "    except ValueError:\n",
    "        raise ValueError(\"\"\"\n",
    "            test_steps: {} is invalid,\n",
    "            please use 'auto' or integer.\n",
    "            \"\"\".format(test_steps))\n",
    "print(\"** test_steps: {} **\".format(test_steps))"
   ]
  },
  {
   "cell_type": "code",
   "execution_count": 4,
   "metadata": {},
   "outputs": [
    {
     "name": "stdout",
     "output_type": "stream",
     "text": [
      "** load model **\n",
      "** use best weights **\n",
      "load model weights_path: ./experiments/1/best_weights.h5\n"
     ]
    }
   ],
   "source": [
    "print(\"** load model **\")\n",
    "if use_best_weights:\n",
    "    print(\"** use best weights **\")\n",
    "    model_weights_path = best_weights_path\n",
    "else:\n",
    "    print(\"** use last weights **\")\n",
    "    model_weights_path = weights_path\n",
    "model_factory = ModelFactory()\n",
    "model = model_factory.get_model(\n",
    "    class_names,\n",
    "    model_name=base_model_name,\n",
    "    use_base_weights=False,\n",
    "    weights_path=model_weights_path)"
   ]
  },
  {
   "cell_type": "code",
   "execution_count": 5,
   "metadata": {},
   "outputs": [
    {
     "name": "stdout",
     "output_type": "stream",
     "text": [
      "** load test generator **\n"
     ]
    },
    {
     "name": "stderr",
     "output_type": "stream",
     "text": [
      "/home/pneumoconiosis/CheXNet-Keras/generator.py:86: FutureWarning: Method .as_matrix will be removed in a future version. Use .values instead.\n",
      "  self.x_path, self.y = df[\"Image Index\"].as_matrix(), df[self.class_names].as_matrix()\n"
     ]
    }
   ],
   "source": [
    "print(\"** load test generator **\")\n",
    "test_sequence = AugmentedImageSequence(\n",
    "    dataset_csv_file=os.path.join(output_dir, \"dev.csv\"),\n",
    "    class_names=class_names,\n",
    "    source_image_dir=image_source_dir,\n",
    "    batch_size=batch_size,\n",
    "    target_size=(image_dimension, image_dimension),\n",
    "    augmenter=None,\n",
    "    steps=test_steps,\n",
    "    shuffle_on_epoch_end=False,\n",
    ")"
   ]
  },
  {
   "cell_type": "code",
   "execution_count": 6,
   "metadata": {},
   "outputs": [
    {
     "name": "stdout",
     "output_type": "stream",
     "text": [
      "** make prediction **\n"
     ]
    },
    {
     "name": "stderr",
     "output_type": "stream",
     "text": [
      "/home/tsimage/anaconda3/lib/python3.6/site-packages/skimage/transform/_warps.py:105: UserWarning: The default mode, 'constant', will be changed to 'reflect' in skimage 0.15.\n",
      "  warn(\"The default mode, 'constant', will be changed to 'reflect' in \"\n",
      "/home/tsimage/anaconda3/lib/python3.6/site-packages/skimage/transform/_warps.py:110: UserWarning: Anti-aliasing will be enabled by default in skimage 0.15 to avoid aliasing artifacts when down-sampling images.\n",
      "  warn(\"Anti-aliasing will be enabled by default in skimage 0.15 to \"\n"
     ]
    },
    {
     "name": "stdout",
     "output_type": "stream",
     "text": [
      "47/47 [==============================] - 222s 5s/step\n"
     ]
    }
   ],
   "source": [
    "print(\"** make prediction **\")\n",
    "y_hat = model.predict_generator(test_sequence, verbose=1)\n",
    "y = test_sequence.get_y_true()"
   ]
  },
  {
   "cell_type": "code",
   "execution_count": 7,
   "metadata": {},
   "outputs": [
    {
     "name": "stdout",
     "output_type": "stream",
     "text": [
      "** write log to ./experiments/1/test_bruce.log **\n",
      "mean auroc: 0.8196393137718962\n"
     ]
    }
   ],
   "source": [
    "test_log_path = os.path.join(output_dir, \"test_bruce.log\")\n",
    "print(\"** write log to {} **\".format(test_log_path))\n",
    "aurocs = []\n",
    "with open(test_log_path, \"w\") as f:\n",
    "    for i in range(len(class_names)):\n",
    "        try:\n",
    "            score = roc_auc_score(y[:, i], y_hat[:, i])\n",
    "            aurocs.append(score)\n",
    "        except ValueError:\n",
    "            score = 0\n",
    "        f.write(\"{}: {}\\n\".format(class_names[i], score))\n",
    "    mean_auroc = np.mean(aurocs)\n",
    "    f.write(\"-------------------------\\n\")\n",
    "    f.write(\"mean auroc: {}\\n\".format(mean_auroc))\n",
    "    print(\"mean auroc: {}\".format(mean_auroc))"
   ]
  },
  {
   "cell_type": "code",
   "execution_count": 8,
   "metadata": {},
   "outputs": [
    {
     "name": "stdout",
     "output_type": "stream",
     "text": [
      "<class 'numpy.ndarray'> <class 'numpy.ndarray'>\n",
      "[7.4522257e-05 9.4205710e-10 1.2541806e-05 2.6150180e-03 2.1063430e-07\n",
      " 5.3130307e-06 9.5761958e-09 4.5514650e-08 5.6060912e-07 2.4599367e-10\n",
      " 4.3676898e-10 4.0079358e-09 9.9609956e-08 1.7189953e-16]\n",
      "[0 0 0 0 0 0 0 0 0 0 0 0 0 0]\n"
     ]
    }
   ],
   "source": [
    "print(type(y_hat), type(y))\n",
    "# y_pred\n",
    "print(y_hat[0])\n",
    "# y_test\n",
    "print(y[0])"
   ]
  },
  {
   "cell_type": "code",
   "execution_count": 21,
   "metadata": {},
   "outputs": [
    {
     "name": "stdout",
     "output_type": "stream",
     "text": [
      "tp = 691, tn = 118, fp = 672, fn = 23\n",
      "\n",
      "Precision:  0.5069699192956714\n",
      "Recall:  0.9677871148459384\n",
      "F1:  0.6653827636013481\n",
      "Accuracy:  0.5378989361702128\n"
     ]
    }
   ],
   "source": [
    "# binary classification evaluation\n",
    "\n",
    "tp, tn, fp, fn = 0, 0, 0, 0\n",
    "thres = 0.001  # threshold to determine if was a valid prediction\n",
    "for r_test, r_pred in zip(y, y_hat):\n",
    "    tp += 1 if r_test.sum() > 0 and r_pred.max() > thres else 0  # predicted desease\n",
    "    tn += 1 if r_test.sum() == 0 and r_pred.max() <= thres else 0\n",
    "    fp += 1 if r_test.sum() == 0 and r_pred.max() > thres else 0\n",
    "    fn += 1 if r_test.sum() > 0 and r_pred.max() <= thres else 0\n",
    "print(\"tp = {}, tn = {}, fp = {}, fn = {}\\n\".format(tp, tn, fp, fn))\n",
    "\n",
    "precision = tp / (tp + fp)\n",
    "recall = tp / (tp + fn)\n",
    "f1 = 2 * precision * recall / (precision + recall)\n",
    "accuracy = (tp + tn) / (tp + tn + fp + fn)\n",
    "print(\"Precision: \", precision)\n",
    "print(\"Recall: \", recall)\n",
    "print(\"F1: \", f1)\n",
    "print(\"Accuracy: \", accuracy)"
   ]
  },
  {
   "cell_type": "code",
   "execution_count": null,
   "metadata": {},
   "outputs": [],
   "source": []
  }
 ],
 "metadata": {
  "kernelspec": {
   "display_name": "Python 3",
   "language": "python",
   "name": "python3"
  },
  "language_info": {
   "codemirror_mode": {
    "name": "ipython",
    "version": 3
   },
   "file_extension": ".py",
   "mimetype": "text/x-python",
   "name": "python",
   "nbconvert_exporter": "python",
   "pygments_lexer": "ipython3",
   "version": "3.6.6"
  }
 },
 "nbformat": 4,
 "nbformat_minor": 2
}
