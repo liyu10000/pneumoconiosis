{
 "cells": [
  {
   "cell_type": "code",
   "execution_count": 1,
   "metadata": {},
   "outputs": [],
   "source": [
    "## Libraries\n",
    "\n",
    "import os\n",
    "import SimpleITK as sitk\n",
    "import cv2\n",
    "import pydicom\n",
    "import numpy as np\n",
    "import tkinter as tk\n",
    "from tkinter import ttk\n",
    "from tkinter import messagebox\n",
    "from tkinter import filedialog\n",
    "from PIL import Image"
   ]
  },
  {
   "cell_type": "code",
   "execution_count": 16,
   "metadata": {},
   "outputs": [],
   "source": [
    "## Functions\n",
    "\n",
    "def loadFile(filename):\n",
    "    ds = sitk.ReadImage(filename)\n",
    "    img_array = sitk.GetArrayFromImage(ds)\n",
    "#     frame_num, width, height = img_array.shape\n",
    "    return img_array\n",
    "\n",
    "def loadFileInformation(filename):\n",
    "    information = {}\n",
    "    ds = pydicom.read_file(filename)\n",
    "    \n",
    "    information['PatientID'] = ds.PatientID\n",
    "    information['PatientName'] = ds.PatientName\n",
    "    information['PatientBirthDate'] = ds.PatientBirthDate\n",
    "    information['PatientSex'] = ds.PatientSex\n",
    "    information['StudyID'] = ds.StudyID\n",
    "    information['StudyDate'] = ds.StudyDate\n",
    "    information['StudyTime'] = ds.StudyTime\n",
    "    information['InstitutionName'] = ds.InstitutionName\n",
    "    information['Manufacturer'] = ds.Manufacturer\n",
    "#     information['NumberOfFrames'] =ds.NumberOfFrames\n",
    "    \n",
    "    return information\n",
    "\n",
    "def showImage(img_array, frame_num = 0):\n",
    "    img_bitmap = Image.fromarray(img_array[frame_num])\n",
    "    return img_bitmap\n",
    "\n",
    "# 调整CT图像的窗宽窗位\n",
    "def setDicomWinWidthWinCenter(img_gray, window_center, window_width):\n",
    "    pixel_val = img_gray.copy()\n",
    "    \n",
    "    win_min = window_center - window_width/2.0 + 0.5\n",
    "    win_max = window_center + window_width/2.0 + 0.5\n",
    "    nPixelVal = (pixel_val - win_min)*255.0/(win_max - win_min)\n",
    "\n",
    "    nPixelVal[nPixelVal < 0] = 0\n",
    "    nPixelVal[nPixelVal > 255] = 255\n",
    "    \n",
    "    img_array_window = np.asarray(nPixelVal).astype(np.int)\n",
    "    return img_array_window\n",
    "\n",
    "def autoEqualize(img_array):\n",
    "    img_array_list = [cv2.equalizeHist(img) for img in img_array]\n",
    "    img_array_equalized = np.asarray(img_array_list)\n",
    "    return img_array_equalized\n",
    "\n",
    "def limitedEqualize(img_array, limit=4.0):\n",
    "    clahe = cv2.createCLAHE(clipLimit=limit, tileGridSize=(8,8))  #CLAHE (Contrast Limited Adaptive Histogram Equalization)\n",
    "    img_array_list = [clahe.apply(img) for img in img_array]\n",
    "    img_array_limited_equalized = np.asarray(img_array_list)\n",
    "    return img_array_limited_equalized   \n",
    "\n",
    "def writeVideo(img_array, directory, filename):\n",
    "    frame_num, width, height = img_array.shape\n",
    "    filename_output = os.path.join(directory, os.path.splitext(os.path.basename(filename))[0] + '.avi')\n",
    "    video = cv2.VideoWriter(filename_output, -1, 15, (width, height)) # Initialize Video File\n",
    "    for img in img_array:\n",
    "        img_rgb = cv2.cvtColor(img, cv2.COLOR_GRAY2BGR)\n",
    "        video.write(img_rgb) # Write video file frame by frame\n",
    "    video.release()"
   ]
  },
  {
   "cell_type": "code",
   "execution_count": 17,
   "metadata": {},
   "outputs": [],
   "source": [
    "# filename1 = 'D:/SampleData/US/3dus-breast-xizhong/data_dicom/9509758/201108101525490000/2.16.840.1.114241.2.10009080000080520110810222549.2.1'\n",
    "# filename2 = 'D:/SampleData/US/3dus-breast-xizhong/data_dicom/9509758/201108101525490000/2.16.840.1.114241.2.10009080000080520110810222549.2.2'\n",
    "filename = '/home/sakulaki/yolo-yuli/tct/pneumoconiosis/samples/01.DCM'"
   ]
  },
  {
   "cell_type": "code",
   "execution_count": 19,
   "metadata": {},
   "outputs": [
    {
     "name": "stdout",
     "output_type": "stream",
     "text": [
      "{'PatientName': '³¾·Î', 'InstitutionName': 'zhan', 'StudyDate': '20180930', 'PatientBirthDate': '20180930', 'StudyTime': '143856', 'StudyID': '1', 'PatientID': '³¾·Î', 'PatientSex': 'M', 'Manufacturer': 'ANGELL'}\n",
      "1\n"
     ]
    }
   ],
   "source": [
    "img_array = loadFile(filename)\n",
    "frame_num, width, height = img_array.shape\n",
    "\n",
    "information = loadFileInformation(filename)\n",
    "print(information)\n",
    "\n",
    "img_array_limited_equalized = limitedEqualize(img_array, limit=8.0)"
   ]
  },
  {
   "cell_type": "code",
   "execution_count": 15,
   "metadata": {},
   "outputs": [
    {
     "name": "stdout",
     "output_type": "stream",
     "text": [
      "0 255\n"
     ]
    },
    {
     "ename": "IndexError",
     "evalue": "index 100 is out of bounds for axis 0 with size 1",
     "output_type": "error",
     "traceback": [
      "\u001b[0;31m---------------------------------------------------------------------------\u001b[0m",
      "\u001b[0;31mIndexError\u001b[0m                                Traceback (most recent call last)",
      "\u001b[0;32m<ipython-input-15-15da95d3233f>\u001b[0m in \u001b[0;36m<module>\u001b[0;34m()\u001b[0m\n\u001b[1;32m      4\u001b[0m \u001b[0;32mimport\u001b[0m \u001b[0mmatplotlib\u001b[0m\u001b[0;34m.\u001b[0m\u001b[0mpyplot\u001b[0m \u001b[0;32mas\u001b[0m \u001b[0mplt\u001b[0m\u001b[0;34m\u001b[0m\u001b[0m\n\u001b[1;32m      5\u001b[0m \u001b[0;34m\u001b[0m\u001b[0m\n\u001b[0;32m----> 6\u001b[0;31m \u001b[0mplt\u001b[0m\u001b[0;34m.\u001b[0m\u001b[0mimshow\u001b[0m\u001b[0;34m(\u001b[0m\u001b[0mimg_array\u001b[0m\u001b[0;34m[\u001b[0m\u001b[0;36m100\u001b[0m\u001b[0;34m]\u001b[0m\u001b[0;34m,\u001b[0m \u001b[0mcmap\u001b[0m \u001b[0;34m=\u001b[0m \u001b[0mplt\u001b[0m\u001b[0;34m.\u001b[0m\u001b[0mcm\u001b[0m\u001b[0;34m.\u001b[0m\u001b[0mgray\u001b[0m\u001b[0;34m)\u001b[0m\u001b[0;34m\u001b[0m\u001b[0m\n\u001b[0m\u001b[1;32m      7\u001b[0m \u001b[0mplt\u001b[0m\u001b[0;34m.\u001b[0m\u001b[0mshow\u001b[0m\u001b[0;34m(\u001b[0m\u001b[0;34m)\u001b[0m\u001b[0;34m\u001b[0m\u001b[0m\n\u001b[1;32m      8\u001b[0m \u001b[0mplt\u001b[0m\u001b[0;34m.\u001b[0m\u001b[0mimshow\u001b[0m\u001b[0;34m(\u001b[0m\u001b[0mimg_array_limited_equalized\u001b[0m\u001b[0;34m[\u001b[0m\u001b[0;36m100\u001b[0m\u001b[0;34m]\u001b[0m\u001b[0;34m,\u001b[0m \u001b[0mcmap\u001b[0m \u001b[0;34m=\u001b[0m \u001b[0mplt\u001b[0m\u001b[0;34m.\u001b[0m\u001b[0mcm\u001b[0m\u001b[0;34m.\u001b[0m\u001b[0mgray\u001b[0m\u001b[0;34m)\u001b[0m\u001b[0;34m\u001b[0m\u001b[0m\n",
      "\u001b[0;31mIndexError\u001b[0m: index 100 is out of bounds for axis 0 with size 1"
     ]
    }
   ],
   "source": [
    "print(np.min(img_array_limited_equalized[0]), np.max(img_array_limited_equalized[0]))\n",
    "\n",
    "%matplotlib inline\n",
    "import matplotlib.pyplot as plt\n",
    "\n",
    "plt.imshow(img_array[100], cmap = plt.cm.gray)\n",
    "plt.show()\n",
    "plt.imshow(img_array_limited_equalized[100], cmap = plt.cm.gray)\n",
    "plt.show()"
   ]
  },
  {
   "cell_type": "code",
   "execution_count": null,
   "metadata": {
    "scrolled": true
   },
   "outputs": [],
   "source": [
    "plt.imshow(data, cmap = plt.cm.gray)\n",
    "plt.show()\n",
    "\n",
    "thesh = 40000\n",
    "\n",
    "maskd = data.copy()\n",
    "maskd[data > thesh] = 255\n",
    "maskd[data <= thesh] = 0\n",
    "plt.imshow(maskd, cmap = plt.cm.gray)\n",
    "plt.show()"
   ]
  },
  {
   "cell_type": "code",
   "execution_count": null,
   "metadata": {},
   "outputs": [],
   "source": [
    "# 白色中有小黑点，去除小黑点\n",
    "morph_close = cv2.morphologyEx(maskd, cv2.MORPH_CLOSE, (9, 9))\n",
    "# 黑色中有小白点，去除小白点\n",
    "morph_open = cv2.morphologyEx(morph_close, cv2.MORPH_OPEN, (9, 9))\n",
    "\n",
    "plt.imshow(morph_close, cmap = plt.cm.gray)\n",
    "plt.show()\n",
    "plt.imshow(morph_open, cmap = plt.cm.gray)\n",
    "plt.show()"
   ]
  }
 ],
 "metadata": {
  "kernelspec": {
   "display_name": "Python 3",
   "language": "python",
   "name": "python3"
  },
  "language_info": {
   "codemirror_mode": {
    "name": "ipython",
    "version": 3
   },
   "file_extension": ".py",
   "mimetype": "text/x-python",
   "name": "python",
   "nbconvert_exporter": "python",
   "pygments_lexer": "ipython3",
   "version": "3.5.2"
  }
 },
 "nbformat": 4,
 "nbformat_minor": 2
}
