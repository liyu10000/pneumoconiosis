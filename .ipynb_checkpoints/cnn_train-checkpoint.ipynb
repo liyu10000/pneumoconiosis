{
 "cells": [
  {
   "cell_type": "markdown",
   "metadata": {},
   "source": [
    "### Overview\n",
    "We try to train a simple model from scratch to see how well we can classify different diseases in the X-Rays. The notebook just shows how to use the HDF5 output to make getting started easier."
   ]
  },
  {
   "cell_type": "code",
   "execution_count": 1,
   "metadata": {
    "collapsed": true
   },
   "outputs": [
    {
     "name": "stderr",
     "output_type": "stream",
     "text": [
      "/usr/local/lib/python3.5/dist-packages/h5py/__init__.py:36: FutureWarning: Conversion of the second argument of issubdtype from `float` to `np.floating` is deprecated. In future, it will be treated as `np.float64 == np.dtype(float).type`.\n",
      "  from ._conv import register_converters as _register_converters\n",
      "Using TensorFlow backend.\n"
     ]
    }
   ],
   "source": [
    "import numpy as np # linear algebra\n",
    "import pandas as pd # data processing, CSV file I/O (e.g. pd.read_csv)\n",
    "import os\n",
    "from glob import glob\n",
    "%matplotlib inline\n",
    "import matplotlib.pyplot as plt\n",
    "import h5py\n",
    "from keras.utils.io_utils import HDF5Matrix"
   ]
  },
  {
   "cell_type": "code",
   "execution_count": 2,
   "metadata": {
    "collapsed": true
   },
   "outputs": [
    {
     "name": "stdout",
     "output_type": "stream",
     "text": [
      "Atelectasis (112120,) float64\n",
      "Cardiomegaly (112120,) float64\n",
      "Consolidation (112120,) float64\n",
      "Edema (112120,) float64\n",
      "Effusion (112120,) float64\n",
      "Emphysema (112120,) float64\n",
      "Fibrosis (112120,) float64\n",
      "Finding Labels (112120,) |S100\n",
      "Follow-up # (112120,) int64\n",
      "Height] (112120,) int64\n",
      "Hernia (112120,) float64\n",
      "Image Index (112120,) |S16\n",
      "Infiltration (112120,) float64\n",
      "Mass (112120,) float64\n",
      "No Finding (112120,) float64\n",
      "Nodule (112120,) float64\n",
      "OriginalImagePixelSpacing[x (112120,) float64\n",
      "OriginalImage[Width (112120,) int64\n",
      "Patient Age (112120,) int64\n",
      "Patient Gender (112120,) |S1\n",
      "Patient ID (112120,) int64\n",
      "Pleural_Thickening (112120,) float64\n",
      "Pneumonia (112120,) float64\n",
      "Pneumothorax (112120,) float64\n",
      "Unnamed: 11 (112120,) float64\n",
      "View Position (112120,) |S2\n",
      "images (112120, 256, 256, 1) uint8\n",
      "path (112120,) |S25\n",
      "y] (112120,) float64\n",
      "Disease Vec: (112120, 14)\n"
     ]
    }
   ],
   "source": [
    "h5_path = './chest_xray.h5'\n",
    "disease_vec_labels = ['Atelectasis','Cardiomegaly','Consolidation','Edema','Effusion','Emphysema','Fibrosis',\n",
    " 'Hernia','Infiltration','Mass','Nodule','Pleural_Thickening','Pneumonia','Pneumothorax']\n",
    "disease_vec = []\n",
    "with h5py.File(h5_path, 'r') as h5_data:\n",
    "    all_fields = list(h5_data.keys())\n",
    "    for c_key in all_fields:\n",
    "        print(c_key, h5_data[c_key].shape, h5_data[c_key].dtype)\n",
    "    for c_key in disease_vec_labels:\n",
    "        disease_vec += [h5_data[c_key][:]]\n",
    "disease_vec = np.stack(disease_vec,1)\n",
    "print('Disease Vec:', disease_vec.shape)"
   ]
  },
  {
   "cell_type": "code",
   "execution_count": 3,
   "metadata": {},
   "outputs": [
    {
     "name": "stdout",
     "output_type": "stream",
     "text": [
      "Train Shape (56060, 256, 256, 1) test shape (56060, 256, 256, 1)\n"
     ]
    }
   ],
   "source": [
    "img_ds = HDF5Matrix(h5_path, 'images')\n",
    "split_idx = img_ds.shape[0]//2\n",
    "train_ds = HDF5Matrix(h5_path, 'images', end = split_idx)\n",
    "test_ds = HDF5Matrix(h5_path, 'images', start = split_idx)\n",
    "train_dvec = disease_vec[0:split_idx]\n",
    "test_dvec = disease_vec[split_idx:]\n",
    "print('Train Shape', train_ds.shape, 'test shape', test_ds.shape)"
   ]
  },
  {
   "cell_type": "code",
   "execution_count": 4,
   "metadata": {},
   "outputs": [
    {
     "name": "stdout",
     "output_type": "stream",
     "text": [
      "_________________________________________________________________\n",
      "Layer (type)                 Output Shape              Param #   \n",
      "=================================================================\n",
      "average_pooling2d_1 (Average (None, 128, 128, 1)       0         \n",
      "_________________________________________________________________\n",
      "batch_normalization_1 (Batch (None, 128, 128, 1)       4         \n",
      "_________________________________________________________________\n",
      "mobilenet_1.00_None (Model)  multiple                  3228288   \n",
      "_________________________________________________________________\n",
      "flatten_1 (Flatten)          (None, 16384)             0         \n",
      "_________________________________________________________________\n",
      "dropout_1 (Dropout)          (None, 16384)             0         \n",
      "_________________________________________________________________\n",
      "dense_1 (Dense)              (None, 64)                1048640   \n",
      "_________________________________________________________________\n",
      "dense_2 (Dense)              (None, 14)                910       \n",
      "=================================================================\n",
      "Total params: 4,277,842\n",
      "Trainable params: 4,255,952\n",
      "Non-trainable params: 21,890\n",
      "_________________________________________________________________\n"
     ]
    }
   ],
   "source": [
    "from keras.applications.mobilenet import MobileNet\n",
    "from keras.models import Sequential\n",
    "from keras.layers import Flatten, Dense, Dropout, BatchNormalization, AveragePooling2D\n",
    "raw_model = MobileNet(input_shape=(None, None, 1), include_top = False, weights = None)\n",
    "full_model = Sequential()\n",
    "full_model.add(AveragePooling2D((2,2), input_shape = img_ds.shape[1:]))\n",
    "full_model.add(BatchNormalization())\n",
    "full_model.add(raw_model)\n",
    "full_model.add(Flatten())\n",
    "full_model.add(Dropout(0.5))\n",
    "full_model.add(Dense(64))\n",
    "full_model.add(Dense(disease_vec.shape[1], activation = 'sigmoid'))\n",
    "full_model.compile(optimizer = 'adam', loss = 'binary_crossentropy', metrics = ['acc'])\n",
    "full_model.summary()"
   ]
  },
  {
   "cell_type": "code",
   "execution_count": 5,
   "metadata": {},
   "outputs": [],
   "source": [
    "from keras.callbacks import ModelCheckpoint, LearningRateScheduler, EarlyStopping, ReduceLROnPlateau\n",
    "file_path=\"weights.best.hdf5\"\n",
    "checkpoint = ModelCheckpoint(file_path, monitor='val_acc', verbose=1, save_best_only=True, mode='max')\n",
    "early = EarlyStopping(monitor=\"val_acc\", mode=\"max\", patience=3)\n",
    "callbacks_list = [checkpoint, early] #early"
   ]
  },
  {
   "cell_type": "code",
   "execution_count": 6,
   "metadata": {},
   "outputs": [
    {
     "name": "stdout",
     "output_type": "stream",
     "text": [
      "Train on 56060 samples, validate on 56060 samples\n",
      "Epoch 1/5\n",
      "56060/56060 [==============================] - 178s 3ms/step - loss: 0.2450 - acc: 0.9512 - val_loss: 0.6255 - val_acc: 0.9443\n",
      "\n",
      "Epoch 00001: val_acc improved from -inf to 0.94425, saving model to weights.best.hdf5\n",
      "Epoch 2/5\n",
      "56060/56060 [==============================] - 173s 3ms/step - loss: 0.2197 - acc: 0.9522 - val_loss: 0.3492 - val_acc: 0.9443\n",
      "\n",
      "Epoch 00002: val_acc did not improve from 0.94425\n",
      "Epoch 3/5\n",
      "56060/56060 [==============================] - 175s 3ms/step - loss: 0.1857 - acc: 0.9521 - val_loss: 0.1900 - val_acc: 0.9443\n",
      "\n",
      "Epoch 00003: val_acc did not improve from 0.94425\n",
      "Epoch 4/5\n",
      "56060/56060 [==============================] - 176s 3ms/step - loss: 0.1707 - acc: 0.9523 - val_loss: 0.1895 - val_acc: 0.9442\n",
      "\n",
      "Epoch 00004: val_acc did not improve from 0.94425\n"
     ]
    },
    {
     "data": {
      "text/plain": [
       "<keras.callbacks.History at 0x7f9393ed16d8>"
      ]
     },
     "execution_count": 6,
     "metadata": {},
     "output_type": "execute_result"
    }
   ],
   "source": [
    "full_model.fit(train_ds, train_dvec, \n",
    "                validation_data = (test_ds, test_dvec),\n",
    "                epochs=5, \n",
    "                verbose = True,\n",
    "                shuffle = 'batch',\n",
    "                callbacks = callbacks_list)"
   ]
  },
  {
   "cell_type": "code",
   "execution_count": null,
   "metadata": {},
   "outputs": [],
   "source": []
  }
 ],
 "metadata": {
  "kernelspec": {
   "display_name": "Python 3",
   "language": "python",
   "name": "python3"
  },
  "language_info": {
   "codemirror_mode": {
    "name": "ipython",
    "version": 3
   },
   "file_extension": ".py",
   "mimetype": "text/x-python",
   "name": "python",
   "nbconvert_exporter": "python",
   "pygments_lexer": "ipython3",
   "version": "3.5.2"
  }
 },
 "nbformat": 4,
 "nbformat_minor": 2
}
