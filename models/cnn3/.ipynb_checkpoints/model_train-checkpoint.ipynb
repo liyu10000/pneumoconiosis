{
 "cells": [
  {
   "cell_type": "code",
   "execution_count": 1,
   "metadata": {
    "collapsed": true
   },
   "outputs": [
    {
     "name": "stderr",
     "output_type": "stream",
     "text": [
      "/usr/local/lib/python3.5/dist-packages/h5py/__init__.py:36: FutureWarning: Conversion of the second argument of issubdtype from `float` to `np.floating` is deprecated. In future, it will be treated as `np.float64 == np.dtype(float).type`.\n",
      "  from ._conv import register_converters as _register_converters\n",
      "Using TensorFlow backend.\n"
     ]
    }
   ],
   "source": [
    "import numpy as np\n",
    "import pandas as pd\n",
    "import os\n",
    "import h5py\n",
    "from keras.utils.io_utils import HDF5Matrix"
   ]
  },
  {
   "cell_type": "code",
   "execution_count": 2,
   "metadata": {
    "collapsed": true
   },
   "outputs": [
    {
     "name": "stdout",
     "output_type": "stream",
     "text": [
      "Atelectasis (112120,) int64\n",
      "Cardiomegaly (112120,) int64\n",
      "Consolidation (112120,) int64\n",
      "Edema (112120,) int64\n",
      "Effusion (112120,) int64\n",
      "Emphysema (112120,) int64\n",
      "Fibrosis (112120,) int64\n",
      "Finding Labels (112120,) |S100\n",
      "Follow-up # (112120,) int64\n",
      "Height] (112120,) int64\n",
      "Hernia (112120,) int64\n",
      "Image Index (112120,) |S16\n",
      "Infiltration (112120,) int64\n",
      "Mass (112120,) int64\n",
      "No Finding (112120,) int64\n",
      "Nodule (112120,) int64\n",
      "OriginalImagePixelSpacing[x (112120,) float64\n",
      "OriginalImage[Width (112120,) int64\n",
      "Patient Age (112120,) int64\n",
      "Patient Gender (112120,) |S1\n",
      "Patient ID (112120,) int64\n",
      "Pleural_Thickening (112120,) int64\n",
      "Pneumonia (112120,) int64\n",
      "Pneumothorax (112120,) int64\n",
      "Unnamed: 11 (112120,) float64\n",
      "View Position (112120,) |S2\n",
      "images (112120, 256, 256, 1) uint8\n",
      "path (112120,) |S26\n",
      "y] (112120,) float64\n",
      "Disease Vec: (112120, 14)\n"
     ]
    }
   ],
   "source": [
    "h5_path = '../chest_xray.h5'\n",
    "disease_vec_labels = ['Atelectasis','Cardiomegaly','Consolidation','Edema','Effusion',\n",
    "                      'Emphysema','Fibrosis','Hernia','Infiltration','Mass','Nodule',\n",
    "                      'Pleural_Thickening','Pneumonia','Pneumothorax']\n",
    "disease_vec = []\n",
    "with h5py.File(h5_path, 'r') as h5_data:\n",
    "    all_fields = list(h5_data.keys())\n",
    "    for c_key in all_fields:\n",
    "        print(c_key, h5_data[c_key].shape, h5_data[c_key].dtype)\n",
    "    for c_key in disease_vec_labels:\n",
    "        disease_vec += [h5_data[c_key][:]]\n",
    "disease_vec = np.stack(disease_vec,1)\n",
    "print('Disease Vec:', disease_vec.shape)"
   ]
  },
  {
   "cell_type": "code",
   "execution_count": 3,
   "metadata": {},
   "outputs": [
    {
     "name": "stdout",
     "output_type": "stream",
     "text": [
      "(112120, 2)\n"
     ]
    }
   ],
   "source": [
    "# generate binary label\n",
    "binary_vec = [[1,0] if label.sum() == 0 else [0,1] for label in disease_vec]\n",
    "binary_vec = np.asarray(binary_vec)\n",
    "print(binary_vec.shape)"
   ]
  },
  {
   "cell_type": "code",
   "execution_count": 4,
   "metadata": {},
   "outputs": [
    {
     "name": "stdout",
     "output_type": "stream",
     "text": [
      "Train Shape (100908, 256, 256, 1) test shape (11212, 256, 256, 1)\n"
     ]
    }
   ],
   "source": [
    "img_ds = HDF5Matrix(h5_path, 'images')\n",
    "split_idx = int(img_ds.shape[0] * 0.9)\n",
    "X_train = HDF5Matrix(h5_path, 'images', end=split_idx)\n",
    "X_test = HDF5Matrix(h5_path, 'images', start=split_idx)\n",
    "y_train = binary_vec[:split_idx]\n",
    "y_test = binary_vec[split_idx:]\n",
    "print('Train Shape', X_train.shape, 'test shape', X_test.shape)"
   ]
  },
  {
   "cell_type": "code",
   "execution_count": 5,
   "metadata": {},
   "outputs": [],
   "source": [
    "from keras.applications.inception_resnet_v2 import InceptionResNetV2\n",
    "from keras.layers import GlobalAveragePooling2D, AveragePooling2D, GlobalMaxPool2D, Dense, Dropout, Flatten, Conv2D\n",
    "from keras.models import Sequential\n",
    "from keras.utils import multi_gpu_model"
   ]
  },
  {
   "cell_type": "code",
   "execution_count": 6,
   "metadata": {},
   "outputs": [
    {
     "name": "stdout",
     "output_type": "stream",
     "text": [
      "__________________________________________________________________________________________________\n",
      "Layer (type)                    Output Shape         Param #     Connected to                     \n",
      "==================================================================================================\n",
      "inception_resnet_v2_input (Inpu (None, 256, 256, 1)  0                                            \n",
      "__________________________________________________________________________________________________\n",
      "lambda_1 (Lambda)               (None, 256, 256, 1)  0           inception_resnet_v2_input[0][0]  \n",
      "__________________________________________________________________________________________________\n",
      "lambda_2 (Lambda)               (None, 256, 256, 1)  0           inception_resnet_v2_input[0][0]  \n",
      "__________________________________________________________________________________________________\n",
      "sequential_1 (Sequential)       (None, 2)            55124130    lambda_1[0][0]                   \n",
      "                                                                 lambda_2[0][0]                   \n",
      "__________________________________________________________________________________________________\n",
      "dense_2 (Concatenate)           (None, 2)            0           sequential_1[1][0]               \n",
      "                                                                 sequential_1[2][0]               \n",
      "==================================================================================================\n",
      "Total params: 55,124,130\n",
      "Trainable params: 55,063,586\n",
      "Non-trainable params: 60,544\n",
      "__________________________________________________________________________________________________\n"
     ]
    }
   ],
   "source": [
    "nb_records, nb_classes = binary_vec.shape\n",
    "img_shape = img_ds.shape[1:]\n",
    "nb_gpus = 2\n",
    "\n",
    "base_inception_model = InceptionResNetV2(input_shape=img_shape, include_top=False, weights=None)\n",
    "model = Sequential()\n",
    "model.add(base_inception_model)\n",
    "model.add(GlobalAveragePooling2D())\n",
    "model.add(Dropout(0.2))\n",
    "model.add(Dense(512))\n",
    "model.add(Dropout(0.2))\n",
    "model.add(Dense(nb_classes, activation = 'sigmoid'))\n",
    "model = multi_gpu_model(model, gpus=nb_gpus)\n",
    "model.compile(optimizer='adam', loss='binary_crossentropy', metrics=['accuracy'])\n",
    "model.summary()"
   ]
  },
  {
   "cell_type": "code",
   "execution_count": 20,
   "metadata": {},
   "outputs": [],
   "source": [
    "from keras.callbacks import ModelCheckpoint, LearningRateScheduler, EarlyStopping, ReduceLROnPlateau\n",
    "\n",
    "weight_path=\"weights.best.hdf5\"\n",
    "checkpoint = ModelCheckpoint(weight_path, monitor='loss', verbose=1, \n",
    "                             save_best_only=False, mode='min', save_weights_only=True)\n",
    "early = EarlyStopping(monitor=\"loss\", mode=\"min\", patience=3)\n",
    "callbacks_list = [checkpoint, early]"
   ]
  },
  {
   "cell_type": "code",
   "execution_count": 8,
   "metadata": {},
   "outputs": [
    {
     "name": "stdout",
     "output_type": "stream",
     "text": [
      "Train on 80726 samples, validate on 20182 samples\n",
      "Epoch 1/50\n",
      "80726/80726 [==============================] - 848s 11ms/step - loss: 0.6435 - acc: 0.6513 - val_loss: 0.6188 - val_acc: 0.6769\n",
      "\n",
      "Epoch 00001: val_loss improved from inf to 0.61885, saving model to weights.best.hdf5\n",
      "Epoch 2/50\n",
      "80726/80726 [==============================] - 809s 10ms/step - loss: 0.6074 - acc: 0.6832 - val_loss: 0.6660 - val_acc: 0.6455\n",
      "\n",
      "Epoch 00002: val_loss did not improve from 0.61885\n",
      "Epoch 3/50\n",
      "80726/80726 [==============================] - 809s 10ms/step - loss: 0.5984 - acc: 0.6924 - val_loss: 0.6132 - val_acc: 0.6860\n",
      "\n",
      "Epoch 00003: val_loss improved from 0.61885 to 0.61323, saving model to weights.best.hdf5\n",
      "Epoch 4/50\n",
      "80726/80726 [==============================] - 808s 10ms/step - loss: 0.5910 - acc: 0.6992 - val_loss: 0.6827 - val_acc: 0.6719\n",
      "\n",
      "Epoch 00004: val_loss did not improve from 0.61323\n",
      "Epoch 5/50\n",
      "80726/80726 [==============================] - 807s 10ms/step - loss: 0.5867 - acc: 0.7029 - val_loss: 0.6072 - val_acc: 0.6826\n",
      "\n",
      "Epoch 00005: val_loss improved from 0.61323 to 0.60719, saving model to weights.best.hdf5\n",
      "Epoch 6/50\n",
      "80726/80726 [==============================] - 808s 10ms/step - loss: 0.5818 - acc: 0.7079 - val_loss: 0.5979 - val_acc: 0.6975\n",
      "\n",
      "Epoch 00006: val_loss improved from 0.60719 to 0.59790, saving model to weights.best.hdf5\n",
      "Epoch 7/50\n",
      "80726/80726 [==============================] - 807s 10ms/step - loss: 0.5775 - acc: 0.7118 - val_loss: 0.6065 - val_acc: 0.6906\n",
      "\n",
      "Epoch 00007: val_loss did not improve from 0.59790\n",
      "Epoch 8/50\n",
      "80726/80726 [==============================] - 808s 10ms/step - loss: 0.5727 - acc: 0.7146 - val_loss: 0.5995 - val_acc: 0.6957\n",
      "\n",
      "Epoch 00008: val_loss did not improve from 0.59790\n",
      "Epoch 9/50\n",
      "80726/80726 [==============================] - 807s 10ms/step - loss: 0.5696 - acc: 0.7186 - val_loss: 0.6065 - val_acc: 0.6893\n",
      "\n",
      "Epoch 00009: val_loss did not improve from 0.59790\n"
     ]
    },
    {
     "data": {
      "text/plain": [
       "<keras.callbacks.History at 0x7fd0b789a7f0>"
      ]
     },
     "execution_count": 8,
     "metadata": {},
     "output_type": "execute_result"
    }
   ],
   "source": [
    "batch_size = 64\n",
    "nb_epoch = 50\n",
    "# model.fit(X_train, y_train, validation_data = (X_test, y_test), \n",
    "#           epochs=5, verbose = True, shuffle = 'batch', callbacks = callbacks_list)\n",
    "model.fit(X_train, y_train, batch_size=batch_size, epochs=nb_epoch,\n",
    "          verbose=1,\n",
    "          shuffle=True,\n",
    "          validation_split=0.2,\n",
    "          callbacks=[checkpoint, early]\n",
    "          )"
   ]
  },
  {
   "cell_type": "code",
   "execution_count": 11,
   "metadata": {},
   "outputs": [
    {
     "name": "stdout",
     "output_type": "stream",
     "text": [
      "Predicting\n",
      "(11212,) (11212, 2)\n"
     ]
    }
   ],
   "source": [
    "from sklearn.metrics import precision_score, recall_score, f1_score\n",
    "\n",
    "print(\"Predicting\")\n",
    "y_pred = model.predict(X_test)\n",
    "print(y_test.shape, y_pred.shape)"
   ]
  },
  {
   "cell_type": "code",
   "execution_count": 12,
   "metadata": {},
   "outputs": [
    {
     "name": "stdout",
     "output_type": "stream",
     "text": [
      "Precision:  0.6736181293367829\n",
      "Recall:  0.66616125579736\n",
      "F1:  0.6610683553349722\n"
     ]
    }
   ],
   "source": [
    "# y_test = np.argmax(y_test, axis=1)\n",
    "y_pred = np.argmax(y_pred, axis=1)\n",
    "\n",
    "precision = precision_score(y_test, y_pred, average='weighted')\n",
    "recall = recall_score(y_test, y_pred, average='weighted')\n",
    "f1 = f1_score(y_test, y_pred, average=\"weighted\")\n",
    "print(\"Precision: \", precision)\n",
    "print(\"Recall: \", recall)\n",
    "print(\"F1: \", f1)"
   ]
  },
  {
   "cell_type": "code",
   "execution_count": 13,
   "metadata": {},
   "outputs": [],
   "source": [
    "model.save('./model-20181012.h5')"
   ]
  },
  {
   "cell_type": "code",
   "execution_count": null,
   "metadata": {},
   "outputs": [],
   "source": []
  }
 ],
 "metadata": {
  "kernelspec": {
   "display_name": "Python 3",
   "language": "python",
   "name": "python3"
  },
  "language_info": {
   "codemirror_mode": {
    "name": "ipython",
    "version": 3
   },
   "file_extension": ".py",
   "mimetype": "text/x-python",
   "name": "python",
   "nbconvert_exporter": "python",
   "pygments_lexer": "ipython3",
   "version": "3.5.2"
  }
 },
 "nbformat": 4,
 "nbformat_minor": 2
}
