{
 "cells": [
  {
   "cell_type": "code",
   "execution_count": 1,
   "metadata": {
    "collapsed": true
   },
   "outputs": [
    {
     "name": "stderr",
     "output_type": "stream",
     "text": [
      "Using TensorFlow backend.\n"
     ]
    }
   ],
   "source": [
    "import numpy as np\n",
    "import pandas as pd\n",
    "import os\n",
    "import h5py\n",
    "from keras.utils.io_utils import HDF5Matrix"
   ]
  },
  {
   "cell_type": "code",
   "execution_count": 2,
   "metadata": {
    "collapsed": true
   },
   "outputs": [
    {
     "name": "stdout",
     "output_type": "stream",
     "text": [
      "Atelectasis (112120,) int64\n",
      "Cardiomegaly (112120,) int64\n",
      "Consolidation (112120,) int64\n",
      "Edema (112120,) int64\n",
      "Effusion (112120,) int64\n",
      "Emphysema (112120,) int64\n",
      "Fibrosis (112120,) int64\n",
      "Finding Labels (112120,) |S100\n",
      "Follow-up # (112120,) int64\n",
      "Height] (112120,) int64\n",
      "Hernia (112120,) int64\n",
      "Image Index (112120,) |S16\n",
      "Infiltration (112120,) int64\n",
      "Mass (112120,) int64\n",
      "No Finding (112120,) int64\n",
      "Nodule (112120,) int64\n",
      "OriginalImagePixelSpacing[x (112120,) float64\n",
      "OriginalImage[Width (112120,) int64\n",
      "Patient Age (112120,) int64\n",
      "Patient Gender (112120,) |S1\n",
      "Patient ID (112120,) int64\n",
      "Pleural_Thickening (112120,) int64\n",
      "Pneumonia (112120,) int64\n",
      "Pneumothorax (112120,) int64\n",
      "Unnamed: 11 (112120,) float64\n",
      "View Position (112120,) |S2\n",
      "images (112120, 256, 256, 1) uint8\n",
      "path (112120,) |S26\n",
      "y] (112120,) float64\n",
      "Disease Vec: (112120, 14)\n"
     ]
    }
   ],
   "source": [
    "h5_path = '../chest_xray.h5'\n",
    "disease_vec_labels = ['Atelectasis','Cardiomegaly','Consolidation','Edema','Effusion',\n",
    "                      'Emphysema','Fibrosis','Hernia','Infiltration','Mass','Nodule',\n",
    "                      'Pleural_Thickening','Pneumonia','Pneumothorax']\n",
    "disease_vec = []\n",
    "with h5py.File(h5_path, 'r') as h5_data:\n",
    "    all_fields = list(h5_data.keys())\n",
    "    for c_key in all_fields:\n",
    "        print(c_key, h5_data[c_key].shape, h5_data[c_key].dtype)\n",
    "    for c_key in disease_vec_labels:\n",
    "        disease_vec += [h5_data[c_key][:]]\n",
    "disease_vec = np.stack(disease_vec,1)\n",
    "print('Disease Vec:', disease_vec.shape)"
   ]
  },
  {
   "cell_type": "code",
   "execution_count": 3,
   "metadata": {},
   "outputs": [
    {
     "name": "stdout",
     "output_type": "stream",
     "text": [
      "(112120, 2)\n"
     ]
    }
   ],
   "source": [
    "# generate binary label\n",
    "binary_vec = [[1,0] if label.sum() == 0 else [0,1] for label in disease_vec]\n",
    "binary_vec = np.asarray(binary_vec)\n",
    "print(binary_vec.shape)"
   ]
  },
  {
   "cell_type": "code",
   "execution_count": 4,
   "metadata": {},
   "outputs": [
    {
     "name": "stdout",
     "output_type": "stream",
     "text": [
      "Train Shape (100908, 256, 256, 1) test shape (11212, 256, 256, 1)\n"
     ]
    }
   ],
   "source": [
    "img_ds = HDF5Matrix(h5_path, 'images')\n",
    "split_idx = int(img_ds.shape[0] * 0.9)\n",
    "X_train = HDF5Matrix(h5_path, 'images', end=split_idx)\n",
    "X_test = HDF5Matrix(h5_path, 'images', start=split_idx)\n",
    "y_train = binary_vec[:split_idx]\n",
    "y_test = binary_vec[split_idx:]\n",
    "print('Train Shape', X_train.shape, 'test shape', X_test.shape)"
   ]
  },
  {
   "cell_type": "code",
   "execution_count": 5,
   "metadata": {},
   "outputs": [],
   "source": [
    "from keras.applications.inception_resnet_v2 import InceptionResNetV2\n",
    "from keras.layers import GlobalAveragePooling2D, AveragePooling2D, GlobalMaxPool2D, Dense, Dropout, Flatten, Conv2D\n",
    "from keras.models import Sequential\n",
    "from keras.utils import multi_gpu_model"
   ]
  },
  {
   "cell_type": "code",
   "execution_count": 6,
   "metadata": {
    "collapsed": true
   },
   "outputs": [
    {
     "name": "stdout",
     "output_type": "stream",
     "text": [
      "__________________________________________________________________________________________________\n",
      "Layer (type)                    Output Shape         Param #     Connected to                     \n",
      "==================================================================================================\n",
      "inception_resnet_v2_input (Inpu (None, 256, 256, 1)  0                                            \n",
      "__________________________________________________________________________________________________\n",
      "lambda_1 (Lambda)               (None, 256, 256, 1)  0           inception_resnet_v2_input[0][0]  \n",
      "__________________________________________________________________________________________________\n",
      "lambda_2 (Lambda)               (None, 256, 256, 1)  0           inception_resnet_v2_input[0][0]  \n",
      "__________________________________________________________________________________________________\n",
      "sequential_1 (Sequential)       (None, 2)            55124130    lambda_1[0][0]                   \n",
      "                                                                 lambda_2[0][0]                   \n",
      "__________________________________________________________________________________________________\n",
      "dense_2 (Concatenate)           (None, 2)            0           sequential_1[1][0]               \n",
      "                                                                 sequential_1[2][0]               \n",
      "==================================================================================================\n",
      "Total params: 55,124,130\n",
      "Trainable params: 55,063,586\n",
      "Non-trainable params: 60,544\n",
      "__________________________________________________________________________________________________\n"
     ]
    }
   ],
   "source": [
    "nb_records, nb_classes = binary_vec.shape\n",
    "img_shape = img_ds.shape[1:]\n",
    "nb_gpus = 2\n",
    "\n",
    "base_inception_model = InceptionResNetV2(input_shape=img_shape, include_top=False, weights=None)\n",
    "model = Sequential()\n",
    "model.add(base_inception_model)\n",
    "model.add(GlobalAveragePooling2D())\n",
    "model.add(Dropout(0.2))\n",
    "model.add(Dense(512))\n",
    "model.add(Dropout(0.2))\n",
    "model.add(Dense(nb_classes, activation = 'sigmoid'))\n",
    "model = multi_gpu_model(model, gpus=nb_gpus)\n",
    "model.compile(optimizer='adam', loss='binary_crossentropy', metrics=['accuracy'])\n",
    "model.summary()"
   ]
  },
  {
   "cell_type": "code",
   "execution_count": 7,
   "metadata": {},
   "outputs": [],
   "source": [
    "from keras.callbacks import ModelCheckpoint, LearningRateScheduler, EarlyStopping, ReduceLROnPlateau\n",
    "\n",
    "weight_path=\"weights_{epoch:02d}_{val_acc:.4f}.hdf5\"\n",
    "checkpoint = ModelCheckpoint(weight_path, monitor='loss', verbose=1, \n",
    "                             save_best_only=True, mode='min', save_weights_only=True)\n",
    "early = EarlyStopping(monitor=\"loss\", mode=\"min\", patience=3)"
   ]
  },
  {
   "cell_type": "code",
   "execution_count": 8,
   "metadata": {},
   "outputs": [
    {
     "name": "stdout",
     "output_type": "stream",
     "text": [
      "Train on 80726 samples, validate on 20182 samples\n",
      "Epoch 1/50\n",
      "80726/80726 [==============================] - 1474s 18ms/step - loss: 0.6461 - acc: 0.6450 - val_loss: 0.8510 - val_acc: 0.5287\n",
      "\n",
      "Epoch 00001: loss improved from inf to 0.64614, saving model to weights_01_0.5287.hdf5\n",
      "Epoch 2/50\n",
      "80726/80726 [==============================] - 1427s 18ms/step - loss: 0.6079 - acc: 0.6822 - val_loss: 0.6693 - val_acc: 0.6281\n",
      "\n",
      "Epoch 00002: loss improved from 0.64614 to 0.60793, saving model to weights_02_0.6281.hdf5\n",
      "Epoch 3/50\n",
      "80726/80726 [==============================] - 1428s 18ms/step - loss: 0.5976 - acc: 0.6929 - val_loss: 0.6532 - val_acc: 0.5749\n",
      "\n",
      "Epoch 00003: loss improved from 0.60793 to 0.59761, saving model to weights_03_0.5749.hdf5\n",
      "Epoch 4/50\n",
      "80726/80726 [==============================] - 1429s 18ms/step - loss: 0.5910 - acc: 0.6987 - val_loss: 0.6351 - val_acc: 0.6873\n",
      "\n",
      "Epoch 00004: loss improved from 0.59761 to 0.59098, saving model to weights_04_0.6873.hdf5\n",
      "Epoch 5/50\n",
      "80726/80726 [==============================] - 1430s 18ms/step - loss: 0.5860 - acc: 0.7035 - val_loss: 0.6082 - val_acc: 0.6905\n",
      "\n",
      "Epoch 00005: loss improved from 0.59098 to 0.58597, saving model to weights_05_0.6905.hdf5\n",
      "Epoch 6/50\n",
      "80726/80726 [==============================] - 1432s 18ms/step - loss: 0.5820 - acc: 0.7073 - val_loss: 0.6062 - val_acc: 0.6962\n",
      "\n",
      "Epoch 00006: loss improved from 0.58597 to 0.58202, saving model to weights_06_0.6962.hdf5\n",
      "Epoch 7/50\n",
      "80726/80726 [==============================] - 1432s 18ms/step - loss: 0.5754 - acc: 0.7124 - val_loss: 0.6242 - val_acc: 0.6809\n",
      "\n",
      "Epoch 00007: loss improved from 0.58202 to 0.57544, saving model to weights_07_0.6809.hdf5\n",
      "Epoch 8/50\n",
      "80726/80726 [==============================] - 1432s 18ms/step - loss: 0.5711 - acc: 0.7161 - val_loss: 0.7335 - val_acc: 0.6670\n",
      "\n",
      "Epoch 00008: loss improved from 0.57544 to 0.57111, saving model to weights_08_0.6670.hdf5\n",
      "Epoch 9/50\n",
      "80726/80726 [==============================] - 1432s 18ms/step - loss: 0.5660 - acc: 0.7194 - val_loss: 0.6330 - val_acc: 0.6458\n",
      "\n",
      "Epoch 00009: loss improved from 0.57111 to 0.56596, saving model to weights_09_0.6458.hdf5\n",
      "Epoch 10/50\n",
      "80726/80726 [==============================] - 1433s 18ms/step - loss: 0.5577 - acc: 0.7258 - val_loss: 0.6410 - val_acc: 0.6792\n",
      "\n",
      "Epoch 00010: loss improved from 0.56596 to 0.55769, saving model to weights_10_0.6792.hdf5\n",
      "Epoch 11/50\n",
      "80726/80726 [==============================] - 1434s 18ms/step - loss: 0.5514 - acc: 0.7295 - val_loss: 0.6136 - val_acc: 0.6706\n",
      "\n",
      "Epoch 00011: loss improved from 0.55769 to 0.55139, saving model to weights_11_0.6706.hdf5\n",
      "Epoch 12/50\n",
      "80726/80726 [==============================] - 1434s 18ms/step - loss: 0.5420 - acc: 0.7364 - val_loss: 0.6391 - val_acc: 0.6812\n",
      "\n",
      "Epoch 00012: loss improved from 0.55139 to 0.54201, saving model to weights_12_0.6812.hdf5\n",
      "Epoch 13/50\n",
      "80726/80726 [==============================] - 1434s 18ms/step - loss: 0.5293 - acc: 0.7449 - val_loss: 0.6162 - val_acc: 0.6760\n",
      "\n",
      "Epoch 00013: loss improved from 0.54201 to 0.52934, saving model to weights_13_0.6760.hdf5\n",
      "Epoch 14/50\n",
      "80726/80726 [==============================] - 1428s 18ms/step - loss: 0.5105 - acc: 0.7555 - val_loss: 0.6313 - val_acc: 0.6646\n",
      "\n",
      "Epoch 00014: loss improved from 0.52934 to 0.51053, saving model to weights_14_0.6646.hdf5\n",
      "Epoch 15/50\n",
      "80726/80726 [==============================] - 1428s 18ms/step - loss: 0.4876 - acc: 0.7715 - val_loss: 0.6346 - val_acc: 0.6750\n",
      "\n",
      "Epoch 00015: loss improved from 0.51053 to 0.48762, saving model to weights_15_0.6750.hdf5\n",
      "Epoch 16/50\n",
      "80726/80726 [==============================] - 1429s 18ms/step - loss: 0.4581 - acc: 0.7891 - val_loss: 0.7817 - val_acc: 0.6746\n",
      "\n",
      "Epoch 00016: loss improved from 0.48762 to 0.45805, saving model to weights_16_0.6746.hdf5\n",
      "Epoch 17/50\n",
      "80726/80726 [==============================] - 1431s 18ms/step - loss: 0.4220 - acc: 0.8093 - val_loss: 0.7041 - val_acc: 0.6534\n",
      "\n",
      "Epoch 00017: loss improved from 0.45805 to 0.42201, saving model to weights_17_0.6534.hdf5\n",
      "Epoch 18/50\n",
      "80726/80726 [==============================] - 1431s 18ms/step - loss: 0.3810 - acc: 0.8322 - val_loss: 0.7143 - val_acc: 0.6397\n",
      "\n",
      "Epoch 00018: loss improved from 0.42201 to 0.38097, saving model to weights_18_0.6397.hdf5\n",
      "Epoch 19/50\n",
      "80726/80726 [==============================] - 1432s 18ms/step - loss: 0.3304 - acc: 0.8600 - val_loss: 0.8772 - val_acc: 0.6575\n",
      "\n",
      "Epoch 00019: loss improved from 0.38097 to 0.33044, saving model to weights_19_0.6575.hdf5\n",
      "Epoch 20/50\n",
      "80726/80726 [==============================] - 1431s 18ms/step - loss: 0.2785 - acc: 0.8846 - val_loss: 1.2044 - val_acc: 0.6539\n",
      "\n",
      "Epoch 00020: loss improved from 0.33044 to 0.27850, saving model to weights_20_0.6539.hdf5\n",
      "Epoch 21/50\n",
      "80726/80726 [==============================] - 1431s 18ms/step - loss: 0.2293 - acc: 0.9072 - val_loss: 1.0959 - val_acc: 0.6373\n",
      "\n",
      "Epoch 00021: loss improved from 0.27850 to 0.22933, saving model to weights_21_0.6373.hdf5\n",
      "Epoch 22/50\n",
      "80726/80726 [==============================] - 1432s 18ms/step - loss: 0.1889 - acc: 0.9252 - val_loss: 1.2193 - val_acc: 0.6615\n",
      "\n",
      "Epoch 00022: loss improved from 0.22933 to 0.18892, saving model to weights_22_0.6615.hdf5\n",
      "Epoch 23/50\n",
      "80726/80726 [==============================] - 1432s 18ms/step - loss: 0.1593 - acc: 0.9375 - val_loss: 1.3894 - val_acc: 0.6330\n",
      "\n",
      "Epoch 00023: loss improved from 0.18892 to 0.15932, saving model to weights_23_0.6330.hdf5\n",
      "Epoch 24/50\n",
      "80726/80726 [==============================] - 1433s 18ms/step - loss: 0.1361 - acc: 0.9459 - val_loss: 1.5684 - val_acc: 0.6436\n",
      "\n",
      "Epoch 00024: loss improved from 0.15932 to 0.13609, saving model to weights_24_0.6436.hdf5\n",
      "Epoch 25/50\n",
      "80726/80726 [==============================] - 1433s 18ms/step - loss: 0.1168 - acc: 0.9547 - val_loss: 1.4718 - val_acc: 0.6360\n",
      "\n",
      "Epoch 00025: loss improved from 0.13609 to 0.11681, saving model to weights_25_0.6360.hdf5\n",
      "Epoch 26/50\n",
      "80726/80726 [==============================] - 1433s 18ms/step - loss: 0.1043 - acc: 0.9596 - val_loss: 1.6073 - val_acc: 0.6371\n",
      "\n",
      "Epoch 00026: loss improved from 0.11681 to 0.10429, saving model to weights_26_0.6371.hdf5\n",
      "Epoch 27/50\n",
      "80726/80726 [==============================] - 1433s 18ms/step - loss: 0.0972 - acc: 0.9634 - val_loss: 1.8125 - val_acc: 0.6549\n",
      "\n",
      "Epoch 00027: loss improved from 0.10429 to 0.09716, saving model to weights_27_0.6549.hdf5\n",
      "Epoch 28/50\n",
      "80726/80726 [==============================] - 1433s 18ms/step - loss: 0.0867 - acc: 0.9677 - val_loss: 1.9167 - val_acc: 0.6522\n",
      "\n",
      "Epoch 00028: loss improved from 0.09716 to 0.08675, saving model to weights_28_0.6522.hdf5\n",
      "Epoch 29/50\n",
      "80726/80726 [==============================] - 1432s 18ms/step - loss: 0.0828 - acc: 0.9691 - val_loss: 1.6393 - val_acc: 0.6273\n",
      "\n",
      "Epoch 00029: loss improved from 0.08675 to 0.08281, saving model to weights_29_0.6273.hdf5\n",
      "Epoch 30/50\n",
      "80726/80726 [==============================] - 1432s 18ms/step - loss: 0.0774 - acc: 0.9717 - val_loss: 1.7669 - val_acc: 0.6407\n",
      "\n",
      "Epoch 00030: loss improved from 0.08281 to 0.07735, saving model to weights_30_0.6407.hdf5\n",
      "Epoch 31/50\n",
      "80726/80726 [==============================] - 1432s 18ms/step - loss: 0.0744 - acc: 0.9720 - val_loss: 1.6869 - val_acc: 0.6415\n",
      "\n",
      "Epoch 00031: loss improved from 0.07735 to 0.07437, saving model to weights_31_0.6415.hdf5\n",
      "Epoch 32/50\n",
      "80726/80726 [==============================] - 1434s 18ms/step - loss: 0.0689 - acc: 0.9740 - val_loss: 2.0325 - val_acc: 0.6366\n",
      "\n",
      "Epoch 00032: loss improved from 0.07437 to 0.06890, saving model to weights_32_0.6366.hdf5\n",
      "Epoch 33/50\n",
      "80726/80726 [==============================] - 1434s 18ms/step - loss: 0.0654 - acc: 0.9754 - val_loss: 1.8762 - val_acc: 0.6443\n",
      "\n",
      "Epoch 00033: loss improved from 0.06890 to 0.06538, saving model to weights_33_0.6443.hdf5\n",
      "Epoch 34/50\n",
      "80726/80726 [==============================] - 1433s 18ms/step - loss: 0.0602 - acc: 0.9787 - val_loss: 1.9023 - val_acc: 0.6447\n",
      "\n",
      "Epoch 00034: loss improved from 0.06538 to 0.06020, saving model to weights_34_0.6447.hdf5\n",
      "Epoch 35/50\n",
      "80726/80726 [==============================] - 1432s 18ms/step - loss: 0.0625 - acc: 0.9763 - val_loss: 2.1426 - val_acc: 0.6298\n",
      "\n",
      "Epoch 00035: loss did not improve from 0.06020\n",
      "Epoch 36/50\n",
      "80726/80726 [==============================] - 1433s 18ms/step - loss: 0.0569 - acc: 0.9791 - val_loss: 2.3042 - val_acc: 0.6325\n",
      "\n",
      "Epoch 00036: loss improved from 0.06020 to 0.05690, saving model to weights_36_0.6325.hdf5\n",
      "Epoch 37/50\n",
      "80726/80726 [==============================] - 1433s 18ms/step - loss: 0.0552 - acc: 0.9799 - val_loss: 2.0410 - val_acc: 0.6206\n",
      "\n",
      "Epoch 00037: loss improved from 0.05690 to 0.05518, saving model to weights_37_0.6206.hdf5\n",
      "Epoch 38/50\n",
      "80726/80726 [==============================] - 1434s 18ms/step - loss: 0.0525 - acc: 0.9812 - val_loss: 1.9987 - val_acc: 0.6319\n",
      "\n",
      "Epoch 00038: loss improved from 0.05518 to 0.05246, saving model to weights_38_0.6319.hdf5\n",
      "Epoch 39/50\n",
      "80726/80726 [==============================] - 1434s 18ms/step - loss: 0.0524 - acc: 0.9807 - val_loss: 1.7665 - val_acc: 0.6350\n",
      "\n",
      "Epoch 00039: loss improved from 0.05246 to 0.05244, saving model to weights_39_0.6350.hdf5\n",
      "Epoch 40/50\n",
      "80726/80726 [==============================] - 1433s 18ms/step - loss: 0.0501 - acc: 0.9816 - val_loss: 2.2463 - val_acc: 0.6492\n",
      "\n",
      "Epoch 00040: loss improved from 0.05244 to 0.05010, saving model to weights_40_0.6492.hdf5\n",
      "Epoch 41/50\n",
      "80726/80726 [==============================] - 1433s 18ms/step - loss: 0.0489 - acc: 0.9822 - val_loss: 2.0616 - val_acc: 0.6418\n",
      "\n",
      "Epoch 00041: loss improved from 0.05010 to 0.04893, saving model to weights_41_0.6418.hdf5\n",
      "Epoch 42/50\n",
      "80726/80726 [==============================] - 1433s 18ms/step - loss: 0.0454 - acc: 0.9838 - val_loss: 2.0609 - val_acc: 0.6503\n",
      "\n",
      "Epoch 00042: loss improved from 0.04893 to 0.04536, saving model to weights_42_0.6503.hdf5\n",
      "Epoch 43/50\n",
      "80726/80726 [==============================] - 1433s 18ms/step - loss: 0.0477 - acc: 0.9826 - val_loss: 2.1425 - val_acc: 0.6484\n",
      "\n",
      "Epoch 00043: loss did not improve from 0.04536\n",
      "Epoch 44/50\n",
      "80726/80726 [==============================] - 1434s 18ms/step - loss: 0.0434 - acc: 0.9845 - val_loss: 2.4357 - val_acc: 0.6453\n",
      "\n",
      "Epoch 00044: loss improved from 0.04536 to 0.04342, saving model to weights_44_0.6453.hdf5\n",
      "Epoch 45/50\n",
      "80726/80726 [==============================] - 1434s 18ms/step - loss: 0.0443 - acc: 0.9840 - val_loss: 1.7725 - val_acc: 0.6268\n",
      "\n",
      "Epoch 00045: loss did not improve from 0.04342\n",
      "Epoch 46/50\n",
      "80726/80726 [==============================] - 1434s 18ms/step - loss: 0.0408 - acc: 0.9856 - val_loss: 2.2999 - val_acc: 0.6369\n",
      "\n",
      "Epoch 00046: loss improved from 0.04342 to 0.04077, saving model to weights_46_0.6369.hdf5\n",
      "Epoch 47/50\n",
      "80726/80726 [==============================] - 1434s 18ms/step - loss: 0.0393 - acc: 0.9863 - val_loss: 2.5531 - val_acc: 0.6559\n",
      "\n",
      "Epoch 00047: loss improved from 0.04077 to 0.03933, saving model to weights_47_0.6559.hdf5\n",
      "Epoch 48/50\n",
      "80726/80726 [==============================] - 1434s 18ms/step - loss: 0.0411 - acc: 0.9854 - val_loss: 2.2827 - val_acc: 0.6557\n",
      "\n",
      "Epoch 00048: loss did not improve from 0.03933\n",
      "Epoch 49/50\n",
      "80726/80726 [==============================] - 1434s 18ms/step - loss: 0.0379 - acc: 0.9867 - val_loss: 2.2915 - val_acc: 0.6369\n",
      "\n",
      "Epoch 00049: loss improved from 0.03933 to 0.03786, saving model to weights_49_0.6369.hdf5\n",
      "Epoch 50/50\n",
      "80726/80726 [==============================] - 1434s 18ms/step - loss: 0.0405 - acc: 0.9857 - val_loss: 2.2084 - val_acc: 0.6421\n",
      "\n",
      "Epoch 00050: loss did not improve from 0.03786\n"
     ]
    },
    {
     "data": {
      "text/plain": [
       "<keras.callbacks.History at 0x7f5f06155128>"
      ]
     },
     "execution_count": 8,
     "metadata": {},
     "output_type": "execute_result"
    }
   ],
   "source": [
    "batch_size = 64\n",
    "nb_epoch = 50\n",
    "\n",
    "model.fit(X_train, y_train, batch_size=batch_size, epochs=nb_epoch,\n",
    "          verbose=1,\n",
    "          validation_split=0.2,\n",
    "          callbacks=[checkpoint, early]\n",
    "          )"
   ]
  },
  {
   "cell_type": "code",
   "execution_count": 9,
   "metadata": {},
   "outputs": [
    {
     "name": "stdout",
     "output_type": "stream",
     "text": [
      "Predicting\n",
      "(11212, 2) (11212, 2)\n"
     ]
    }
   ],
   "source": [
    "from sklearn.metrics import precision_score, recall_score, f1_score\n",
    "\n",
    "print(\"Predicting\")\n",
    "y_pred = model.predict(X_test)\n",
    "print(y_test.shape, y_pred.shape)"
   ]
  },
  {
   "cell_type": "code",
   "execution_count": 10,
   "metadata": {},
   "outputs": [
    {
     "name": "stdout",
     "output_type": "stream",
     "text": [
      "Precision:  0.6326248141493438\n",
      "Recall:  0.6295041027470567\n",
      "F1:  0.6257029343381818\n"
     ]
    }
   ],
   "source": [
    "y_test = np.argmax(y_test, axis=1)\n",
    "y_pred = np.argmax(y_pred, axis=1)\n",
    "\n",
    "precision = precision_score(y_test, y_pred, average='weighted')\n",
    "recall = recall_score(y_test, y_pred, average='weighted')\n",
    "f1 = f1_score(y_test, y_pred, average=\"weighted\")\n",
    "print(\"Precision: \", precision)\n",
    "print(\"Recall: \", recall)\n",
    "print(\"F1: \", f1)"
   ]
  },
  {
   "cell_type": "code",
   "execution_count": 11,
   "metadata": {},
   "outputs": [],
   "source": [
    "model.save('./model-20181012.h5')"
   ]
  },
  {
   "cell_type": "code",
   "execution_count": null,
   "metadata": {},
   "outputs": [],
   "source": []
  }
 ],
 "metadata": {
  "kernelspec": {
   "display_name": "Python 3",
   "language": "python",
   "name": "python3"
  },
  "language_info": {
   "codemirror_mode": {
    "name": "ipython",
    "version": 3
   },
   "file_extension": ".py",
   "mimetype": "text/x-python",
   "name": "python",
   "nbconvert_exporter": "python",
   "pygments_lexer": "ipython3",
   "version": "3.6.6"
  }
 },
 "nbformat": 4,
 "nbformat_minor": 2
}
