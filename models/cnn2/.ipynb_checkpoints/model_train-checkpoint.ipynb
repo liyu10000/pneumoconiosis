{
 "cells": [
  {
   "cell_type": "code",
   "execution_count": 1,
   "metadata": {},
   "outputs": [
    {
     "name": "stderr",
     "output_type": "stream",
     "text": [
      "/usr/local/lib/python3.5/dist-packages/h5py/__init__.py:36: FutureWarning: Conversion of the second argument of issubdtype from `float` to `np.floating` is deprecated. In future, it will be treated as `np.float64 == np.dtype(float).type`.\n",
      "  from ._conv import register_converters as _register_converters\n",
      "Using TensorFlow backend.\n"
     ]
    }
   ],
   "source": [
    "import numpy as np # linear algebra\n",
    "import pandas as pd # data processing, CSV file I/O (e.g. pd.read_csv)\n",
    "import os\n",
    "from glob import glob\n",
    "%matplotlib inline\n",
    "import matplotlib.pyplot as plt\n",
    "import h5py\n",
    "from keras.utils.io_utils import HDF5Matrix"
   ]
  },
  {
   "cell_type": "code",
   "execution_count": 2,
   "metadata": {},
   "outputs": [
    {
     "name": "stdout",
     "output_type": "stream",
     "text": [
      "Atelectasis (112120,) int64\n",
      "Cardiomegaly (112120,) int64\n",
      "Consolidation (112120,) int64\n",
      "Edema (112120,) int64\n",
      "Effusion (112120,) int64\n",
      "Emphysema (112120,) int64\n",
      "Fibrosis (112120,) int64\n",
      "Finding Labels (112120,) |S100\n",
      "Follow-up # (112120,) int64\n",
      "Height] (112120,) int64\n",
      "Hernia (112120,) int64\n",
      "Image Index (112120,) |S16\n",
      "Infiltration (112120,) int64\n",
      "Mass (112120,) int64\n",
      "No Finding (112120,) int64\n",
      "Nodule (112120,) int64\n",
      "OriginalImagePixelSpacing[x (112120,) float64\n",
      "OriginalImage[Width (112120,) int64\n",
      "Patient Age (112120,) int64\n",
      "Patient Gender (112120,) |S1\n",
      "Patient ID (112120,) int64\n",
      "Pleural_Thickening (112120,) int64\n",
      "Pneumonia (112120,) int64\n",
      "Pneumothorax (112120,) int64\n",
      "Unnamed: 11 (112120,) float64\n",
      "View Position (112120,) |S2\n",
      "images (112120, 256, 256, 1) uint8\n",
      "path (112120,) |S26\n",
      "y] (112120,) float64\n",
      "Disease Vec: (112120, 14)\n"
     ]
    }
   ],
   "source": [
    "h5_path = '../chest_xray.h5'\n",
    "disease_vec_labels = ['Atelectasis','Cardiomegaly','Consolidation','Edema','Effusion',\n",
    "                      'Emphysema','Fibrosis','Hernia','Infiltration','Mass','Nodule',\n",
    "                      'Pleural_Thickening','Pneumonia','Pneumothorax']\n",
    "disease_vec = []\n",
    "with h5py.File(h5_path, 'r') as h5_data:\n",
    "    all_fields = list(h5_data.keys())\n",
    "    for c_key in all_fields:\n",
    "        print(c_key, h5_data[c_key].shape, h5_data[c_key].dtype)\n",
    "    for c_key in disease_vec_labels:\n",
    "        disease_vec += [h5_data[c_key][:]]\n",
    "disease_vec = np.stack(disease_vec,1)\n",
    "print('Disease Vec:', disease_vec.shape)"
   ]
  },
  {
   "cell_type": "code",
   "execution_count": 3,
   "metadata": {},
   "outputs": [
    {
     "name": "stdout",
     "output_type": "stream",
     "text": [
      "Train Shape (89696, 256, 256, 1) test shape (22424, 256, 256, 1)\n"
     ]
    }
   ],
   "source": [
    "img_ds = HDF5Matrix(h5_path, 'images')\n",
    "split_idx = int(img_ds.shape[0] * 0.8)\n",
    "X_train = HDF5Matrix(h5_path, 'images', end = split_idx)\n",
    "X_test = HDF5Matrix(h5_path, 'images', start = split_idx)\n",
    "y_train = disease_vec[:split_idx]\n",
    "y_test = disease_vec[split_idx:]\n",
    "print('Train Shape', X_train.shape, 'test shape', X_test.shape)"
   ]
  },
  {
   "cell_type": "code",
   "execution_count": 4,
   "metadata": {},
   "outputs": [],
   "source": [
    "from keras.callbacks import EarlyStopping\n",
    "from keras.callbacks import TensorBoard\n",
    "from keras.layers import Dense, Activation, Flatten, Dropout\n",
    "from keras.layers import MaxPooling2D\n",
    "from keras.layers.convolutional import Conv2D\n",
    "from keras.models import Sequential\n",
    "from keras.utils import np_utils\n",
    "from keras.utils import multi_gpu_model\n",
    "from sklearn.metrics import precision_score, recall_score, f1_score\n",
    "from sklearn.model_selection import train_test_split\n",
    "from sklearn.preprocessing import LabelEncoder"
   ]
  },
  {
   "cell_type": "code",
   "execution_count": 10,
   "metadata": {},
   "outputs": [
    {
     "name": "stdout",
     "output_type": "stream",
     "text": [
      "Model flattened out to:  (None, 1152)\n",
      "__________________________________________________________________________________________________\n",
      "Layer (type)                    Output Shape         Param #     Connected to                     \n",
      "==================================================================================================\n",
      "conv2d_19_input (InputLayer)    (None, 256, 256, 1)  0                                            \n",
      "__________________________________________________________________________________________________\n",
      "lambda_5 (Lambda)               (None, 256, 256, 1)  0           conv2d_19_input[0][0]            \n",
      "__________________________________________________________________________________________________\n",
      "lambda_6 (Lambda)               (None, 256, 256, 1)  0           conv2d_19_input[0][0]            \n",
      "__________________________________________________________________________________________________\n",
      "sequential_3 (Sequential)       (None, 14)           23241326    lambda_5[0][0]                   \n",
      "                                                                 lambda_6[0][0]                   \n",
      "__________________________________________________________________________________________________\n",
      "activation_34 (Concatenate)     (None, 14)           0           sequential_3[1][0]               \n",
      "                                                                 sequential_3[2][0]               \n",
      "==================================================================================================\n",
      "Total params: 23,241,326\n",
      "Trainable params: 23,241,326\n",
      "Non-trainable params: 0\n",
      "__________________________________________________________________________________________________\n",
      "None\n",
      "Train on 71756 samples, validate on 17940 samples\n",
      "Epoch 1/20\n",
      "71756/71756 [==============================] - 229s 3ms/step - loss: 9.3293 - acc: 0.0689 - val_loss: 11.4327 - val_acc: 0.0742\n",
      "Epoch 2/20\n",
      "71756/71756 [==============================] - 226s 3ms/step - loss: 9.3356 - acc: 0.0690 - val_loss: 11.4327 - val_acc: 0.0742\n",
      "Epoch 3/20\n",
      "71756/71756 [==============================] - 228s 3ms/step - loss: 9.3356 - acc: 0.0690 - val_loss: 11.4327 - val_acc: 0.0742\n",
      "Epoch 00003: early stopping\n"
     ]
    },
    {
     "data": {
      "text/plain": [
       "<keras.callbacks.History at 0x7f610d0bada0>"
      ]
     },
     "execution_count": 10,
     "metadata": {},
     "output_type": "execute_result"
    }
   ],
   "source": [
    "nb_records, nb_classes = disease_vec.shape\n",
    "img_shape = img_ds.shape[1:]\n",
    "batch_size = 64\n",
    "nb_epoch = 20\n",
    "nb_gpus = 2\n",
    "\n",
    "\n",
    "# build model\n",
    "model = Sequential()\n",
    "\n",
    "'''\n",
    "First set of three layers\n",
    "Image size: 256 x 256\n",
    "nb_filters = 32\n",
    "kernel_size = (2,2)\n",
    "'''\n",
    "\n",
    "nb_filters = 32\n",
    "kernel_size = (2,2)\n",
    "\n",
    "model.add(Conv2D(nb_filters, kernel_size,\n",
    "                 padding='valid',\n",
    "                 strides=1,\n",
    "                 input_shape=img_shape))\n",
    "model.add(Activation('relu'))\n",
    "\n",
    "model.add(Conv2D(nb_filters, kernel_size))\n",
    "model.add(Activation('relu'))\n",
    "\n",
    "model.add(Conv2D(nb_filters, kernel_size))\n",
    "model.add(Activation('relu'))\n",
    "\n",
    "model.add(MaxPooling2D(pool_size=(2, 2)))\n",
    "\n",
    "'''\n",
    "Second set of three layers\n",
    "Image Size: 128 x 128\n",
    "nb_filters = 64\n",
    "kernel_size = (4, 4)\n",
    "'''\n",
    "\n",
    "nb_filters = 64\n",
    "kernel_size = (4, 4)\n",
    "\n",
    "\n",
    "model.add(Conv2D(nb_filters, kernel_size))\n",
    "model.add(Activation('relu'))\n",
    "\n",
    "model.add(Conv2D(nb_filters, kernel_size))\n",
    "model.add(Activation('relu'))\n",
    "\n",
    "# model.add(Conv2D(nb_filters, kernel_size))\n",
    "# model.add(Activation('relu'))\n",
    "\n",
    "model.add(MaxPooling2D(pool_size=(2, 2)))\n",
    "\n",
    "'''\n",
    "Third set of three layers\n",
    "Image Size: 64 x 64\n",
    "nb_filters = 128\n",
    "kernel_size = (8, 8)\n",
    "'''\n",
    "\n",
    "nb_filters = 128\n",
    "kernel_size = (8, 8)\n",
    "\n",
    "model.add(Conv2D(nb_filters, kernel_size))\n",
    "model.add(Activation('relu'))\n",
    "\n",
    "model.add(Conv2D(nb_filters, kernel_size))\n",
    "model.add(Activation('relu'))\n",
    "\n",
    "# model.add(Conv2D(nb_filters, kernel_size))\n",
    "# model.add(Activation('relu'))\n",
    "\n",
    "model.add(MaxPooling2D(pool_size=(12, 12)))\n",
    "\n",
    "model.add(Flatten())\n",
    "print(\"Model flattened out to: \", model.output_shape)\n",
    "\n",
    "model.add(Dense(4096))\n",
    "model.add(Activation('relu'))\n",
    "model.add(Dropout(0.2))\n",
    "\n",
    "model.add(Dense(4096))\n",
    "model.add(Activation(\"relu\"))\n",
    "model.add(Dropout(0.2))\n",
    "\n",
    "model.add(Dense(nb_classes))\n",
    "model.add(Activation('softmax'))\n",
    "\n",
    "model = multi_gpu_model(model, gpus=nb_gpus)\n",
    "model.compile(loss='categorical_crossentropy',\n",
    "              optimizer='adam',\n",
    "              metrics=['accuracy'])\n",
    "\n",
    "print(model.summary())\n",
    "\n",
    "# train model\n",
    "stop = EarlyStopping(monitor='acc',\n",
    "                     min_delta=0.001,\n",
    "                     patience=2,\n",
    "                     verbose=1,\n",
    "                     mode='auto')\n",
    "\n",
    "tensor_board = TensorBoard(log_dir='./Graph', histogram_freq=0, write_graph=True, write_images=True)\n",
    "\n",
    "model.fit(X_train, y_train, batch_size=batch_size, epochs=nb_epoch,\n",
    "          verbose=1,\n",
    "          validation_split=0.2,\n",
    "          class_weight='auto',\n",
    "          callbacks=[stop, tensor_board]\n",
    "          )"
   ]
  },
  {
   "cell_type": "code",
   "execution_count": 6,
   "metadata": {},
   "outputs": [
    {
     "name": "stdout",
     "output_type": "stream",
     "text": [
      "Predicting\n",
      "Precision:  0.39375289199788366\n",
      "Recall:  0.6274973242953978\n",
      "F1:  0.4838753171755333\n"
     ]
    },
    {
     "name": "stderr",
     "output_type": "stream",
     "text": [
      "/usr/local/lib/python3.5/dist-packages/sklearn/metrics/classification.py:1135: UndefinedMetricWarning: Precision is ill-defined and being set to 0.0 in labels with no predicted samples.\n",
      "  'precision', 'predicted', average, warn_for)\n",
      "/usr/local/lib/python3.5/dist-packages/sklearn/metrics/classification.py:1135: UndefinedMetricWarning: F-score is ill-defined and being set to 0.0 in labels with no predicted samples.\n",
      "  'precision', 'predicted', average, warn_for)\n"
     ]
    }
   ],
   "source": [
    "# predict\n",
    "print(\"Predicting\")\n",
    "y_pred = model.predict(X_test)\n",
    "\n",
    "y_test = np.argmax(y_test, axis=1)\n",
    "y_pred = np.argmax(y_pred, axis=1)\n",
    "\n",
    "precision = precision_score(y_test, y_pred, average='weighted')\n",
    "recall = recall_score(y_test, y_pred, average='weighted')\n",
    "f1 = f1_score(y_test, y_pred, average=\"weighted\")\n",
    "print(\"Precision: \", precision)\n",
    "print(\"Recall: \", recall)\n",
    "print(\"F1: \", f1)"
   ]
  },
  {
   "cell_type": "code",
   "execution_count": 8,
   "metadata": {},
   "outputs": [],
   "source": [
    "model.save('./model20181011.h5')"
   ]
  },
  {
   "cell_type": "code",
   "execution_count": null,
   "metadata": {},
   "outputs": [],
   "source": []
  }
 ],
 "metadata": {
  "kernelspec": {
   "display_name": "Python 3",
   "language": "python",
   "name": "python3"
  },
  "language_info": {
   "codemirror_mode": {
    "name": "ipython",
    "version": 3
   },
   "file_extension": ".py",
   "mimetype": "text/x-python",
   "name": "python",
   "nbconvert_exporter": "python",
   "pygments_lexer": "ipython3",
   "version": "3.5.2"
  }
 },
 "nbformat": 4,
 "nbformat_minor": 2
}
