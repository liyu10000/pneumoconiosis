{
 "cells": [
  {
   "cell_type": "code",
   "execution_count": 2,
   "metadata": {},
   "outputs": [],
   "source": [
    "import numpy as np # linear algebra\n",
    "import pandas as pd # data processing, CSV file I/O (e.g. pd.read_csv)\n",
    "import os\n",
    "import cv2"
   ]
  },
  {
   "cell_type": "code",
   "execution_count": null,
   "metadata": {},
   "outputs": [],
   "source": [
    "df = pd.read_csv('../CHESTXRAY/Data_Entry_2017.csv')\n",
    "image_dir = '../images'\n",
    "\n",
    "# convert images to array\n",
    "image_list = [f for f in df['Image Index']]\n",
    "image_np = np.array([np.array(cv2.imread(os.path.join(image_dir, f), cv2.IMREAD_GRAYSCALE)) for f in image_list])\n",
    "print(image_np.shape)\n",
    "# save numpy array\n",
    "image_npy = './chest_xray.npy'\n",
    "np.save(image_npy, image_np)"
   ]
  },
  {
   "cell_type": "code",
   "execution_count": null,
   "metadata": {},
   "outputs": [],
   "source": []
  }
 ],
 "metadata": {
  "kernelspec": {
   "display_name": "Python 3",
   "language": "python",
   "name": "python3"
  },
  "language_info": {
   "codemirror_mode": {
    "name": "ipython",
    "version": 3
   },
   "file_extension": ".py",
   "mimetype": "text/x-python",
   "name": "python",
   "nbconvert_exporter": "python",
   "pygments_lexer": "ipython3",
   "version": "3.5.2"
  }
 },
 "nbformat": 4,
 "nbformat_minor": 2
}
