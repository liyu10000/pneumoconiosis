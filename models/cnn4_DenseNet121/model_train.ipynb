{
 "cells": [
  {
   "cell_type": "code",
   "execution_count": 1,
   "metadata": {
    "collapsed": true
   },
   "outputs": [
    {
     "name": "stderr",
     "output_type": "stream",
     "text": [
      "Using TensorFlow backend.\n"
     ]
    }
   ],
   "source": [
    "import numpy as np\n",
    "import pandas as pd\n",
    "import os\n",
    "import h5py\n",
    "from keras.utils.io_utils import HDF5Matrix"
   ]
  },
  {
   "cell_type": "code",
   "execution_count": 2,
   "metadata": {
    "collapsed": true
   },
   "outputs": [
    {
     "name": "stdout",
     "output_type": "stream",
     "text": [
      "Atelectasis (112120,) int64\n",
      "Cardiomegaly (112120,) int64\n",
      "Consolidation (112120,) int64\n",
      "Edema (112120,) int64\n",
      "Effusion (112120,) int64\n",
      "Emphysema (112120,) int64\n",
      "Fibrosis (112120,) int64\n",
      "Finding Labels (112120,) |S100\n",
      "Follow-up # (112120,) int64\n",
      "Height] (112120,) int64\n",
      "Hernia (112120,) int64\n",
      "Image Index (112120,) |S16\n",
      "Infiltration (112120,) int64\n",
      "Mass (112120,) int64\n",
      "No Finding (112120,) int64\n",
      "Nodule (112120,) int64\n",
      "OriginalImagePixelSpacing[x (112120,) float64\n",
      "OriginalImage[Width (112120,) int64\n",
      "Patient Age (112120,) int64\n",
      "Patient Gender (112120,) |S1\n",
      "Patient ID (112120,) int64\n",
      "Pleural_Thickening (112120,) int64\n",
      "Pneumonia (112120,) int64\n",
      "Pneumothorax (112120,) int64\n",
      "Unnamed: 11 (112120,) float64\n",
      "View Position (112120,) |S2\n",
      "images (112120, 256, 256, 1) uint8\n",
      "path (112120,) |S26\n",
      "y] (112120,) float64\n",
      "Disease Vec: (112120, 14)\n"
     ]
    }
   ],
   "source": [
    "h5_path = '../chest_xray.h5'\n",
    "disease_vec_labels = ['Atelectasis','Cardiomegaly','Consolidation','Edema','Effusion',\n",
    "                      'Emphysema','Fibrosis','Hernia','Infiltration','Mass','Nodule',\n",
    "                      'Pleural_Thickening','Pneumonia','Pneumothorax']\n",
    "disease_vec = []\n",
    "with h5py.File(h5_path, 'r') as h5_data:\n",
    "    all_fields = list(h5_data.keys())\n",
    "    for c_key in all_fields:\n",
    "        print(c_key, h5_data[c_key].shape, h5_data[c_key].dtype)\n",
    "    for c_key in disease_vec_labels:\n",
    "        disease_vec += [h5_data[c_key][:]]\n",
    "disease_vec = np.stack(disease_vec,1)\n",
    "print('Disease Vec:', disease_vec.shape)"
   ]
  },
  {
   "cell_type": "code",
   "execution_count": 3,
   "metadata": {},
   "outputs": [
    {
     "name": "stdout",
     "output_type": "stream",
     "text": [
      "(112120, 2)\n"
     ]
    }
   ],
   "source": [
    "# generate binary label\n",
    "binary_vec = [[1,0] if label.sum() == 0 else [0,1] for label in disease_vec]\n",
    "binary_vec = np.asarray(binary_vec)\n",
    "print(binary_vec.shape)"
   ]
  },
  {
   "cell_type": "code",
   "execution_count": 4,
   "metadata": {},
   "outputs": [
    {
     "name": "stdout",
     "output_type": "stream",
     "text": [
      "Train Shape (100908, 256, 256, 1) test shape (11212, 256, 256, 1)\n"
     ]
    }
   ],
   "source": [
    "img_ds = HDF5Matrix(h5_path, 'images')\n",
    "split_idx = int(img_ds.shape[0] * 0.9)\n",
    "X_train = HDF5Matrix(h5_path, 'images', end=split_idx)\n",
    "X_test = HDF5Matrix(h5_path, 'images', start=split_idx)\n",
    "y_train = binary_vec[:split_idx]\n",
    "y_test = binary_vec[split_idx:]\n",
    "print('Train Shape', X_train.shape, 'test shape', X_test.shape)"
   ]
  },
  {
   "cell_type": "code",
   "execution_count": 5,
   "metadata": {},
   "outputs": [],
   "source": [
    "from keras.applications.densenet import DenseNet121\n",
    "from keras.layers import GlobalAveragePooling2D, AveragePooling2D, GlobalMaxPool2D, Dense, Dropout, Flatten, Conv2D\n",
    "from keras.models import Sequential\n",
    "from keras.utils import multi_gpu_model"
   ]
  },
  {
   "cell_type": "code",
   "execution_count": 6,
   "metadata": {
    "collapsed": true
   },
   "outputs": [
    {
     "name": "stdout",
     "output_type": "stream",
     "text": [
      "__________________________________________________________________________________________________\n",
      "Layer (type)                    Output Shape         Param #     Connected to                     \n",
      "==================================================================================================\n",
      "inception_resnet_v2_input (Inpu (None, 256, 256, 1)  0                                            \n",
      "__________________________________________________________________________________________________\n",
      "lambda_1 (Lambda)               (None, 256, 256, 1)  0           inception_resnet_v2_input[0][0]  \n",
      "__________________________________________________________________________________________________\n",
      "lambda_2 (Lambda)               (None, 256, 256, 1)  0           inception_resnet_v2_input[0][0]  \n",
      "__________________________________________________________________________________________________\n",
      "sequential_1 (Sequential)       (None, 2)            55124130    lambda_1[0][0]                   \n",
      "                                                                 lambda_2[0][0]                   \n",
      "__________________________________________________________________________________________________\n",
      "dense_2 (Concatenate)           (None, 2)            0           sequential_1[1][0]               \n",
      "                                                                 sequential_1[2][0]               \n",
      "==================================================================================================\n",
      "Total params: 55,124,130\n",
      "Trainable params: 55,063,586\n",
      "Non-trainable params: 60,544\n",
      "__________________________________________________________________________________________________\n"
     ]
    }
   ],
   "source": [
    "nb_records, nb_classes = binary_vec.shape\n",
    "img_shape = img_ds.shape[1:]\n",
    "nb_gpus = 2\n",
    "\n",
    "base_model = DenseNet121(input_shape=img_shape, include_top=False, weights='imagenet')\n",
    "model = Sequential()\n",
    "model.add(base_model)\n",
    "model.add(GlobalAveragePooling2D())\n",
    "model.add(Dropout(0.2))\n",
    "model.add(Dense(512))\n",
    "model.add(Dropout(0.2))\n",
    "model.add(Dense(nb_classes, activation = 'sigmoid'))\n",
    "model = multi_gpu_model(model, gpus=nb_gpus)\n",
    "model.compile(optimizer='adam', loss='binary_crossentropy', metrics=['accuracy'])\n",
    "model.summary()"
   ]
  },
  {
   "cell_type": "code",
   "execution_count": 7,
   "metadata": {},
   "outputs": [],
   "source": [
    "from keras.callbacks import ModelCheckpoint, LearningRateScheduler, EarlyStopping, ReduceLROnPlateau\n",
    "\n",
    "weight_path=\"weights_{epoch:02d}_{val_acc:.4f}.hdf5\"\n",
    "checkpoint = ModelCheckpoint(weight_path, monitor='loss', verbose=1, \n",
    "                             save_best_only=True, mode='min', save_weights_only=True)\n",
    "early = EarlyStopping(monitor=\"loss\", mode=\"min\", patience=3)"
   ]
  },
  {
   "cell_type": "code",
   "execution_count": null,
   "metadata": {
    "scrolled": true
   },
   "outputs": [
    {
     "name": "stdout",
     "output_type": "stream",
     "text": [
      "Train on 80726 samples, validate on 20182 samples\n",
      "Epoch 1/50\n",
      "80726/80726 [==============================] - 1474s 18ms/step - loss: 0.6461 - acc: 0.6450 - val_loss: 0.8510 - val_acc: 0.5287\n",
      "\n",
      "Epoch 00001: loss improved from inf to 0.64614, saving model to weights_01_0.5287.hdf5\n",
      "Epoch 2/50\n",
      "80726/80726 [==============================] - 1427s 18ms/step - loss: 0.6079 - acc: 0.6822 - val_loss: 0.6693 - val_acc: 0.6281\n",
      "\n",
      "Epoch 00002: loss improved from 0.64614 to 0.60793, saving model to weights_02_0.6281.hdf5\n",
      "Epoch 3/50\n",
      "80726/80726 [==============================] - 1428s 18ms/step - loss: 0.5976 - acc: 0.6929 - val_loss: 0.6532 - val_acc: 0.5749\n",
      "\n",
      "Epoch 00003: loss improved from 0.60793 to 0.59761, saving model to weights_03_0.5749.hdf5\n",
      "Epoch 4/50\n",
      "80726/80726 [==============================] - 1429s 18ms/step - loss: 0.5910 - acc: 0.6987 - val_loss: 0.6351 - val_acc: 0.6873\n",
      "\n",
      "Epoch 00004: loss improved from 0.59761 to 0.59098, saving model to weights_04_0.6873.hdf5\n",
      "Epoch 5/50\n",
      "80726/80726 [==============================] - 1430s 18ms/step - loss: 0.5860 - acc: 0.7035 - val_loss: 0.6082 - val_acc: 0.6905\n",
      "\n",
      "Epoch 00005: loss improved from 0.59098 to 0.58597, saving model to weights_05_0.6905.hdf5\n",
      "Epoch 6/50\n",
      "80726/80726 [==============================] - 1432s 18ms/step - loss: 0.5820 - acc: 0.7073 - val_loss: 0.6062 - val_acc: 0.6962\n",
      "\n",
      "Epoch 00006: loss improved from 0.58597 to 0.58202, saving model to weights_06_0.6962.hdf5\n",
      "Epoch 7/50\n",
      "80726/80726 [==============================] - 1432s 18ms/step - loss: 0.5754 - acc: 0.7124 - val_loss: 0.6242 - val_acc: 0.6809\n",
      "\n",
      "Epoch 00007: loss improved from 0.58202 to 0.57544, saving model to weights_07_0.6809.hdf5\n",
      "Epoch 8/50\n",
      "80726/80726 [==============================] - 1432s 18ms/step - loss: 0.5711 - acc: 0.7161 - val_loss: 0.7335 - val_acc: 0.6670\n",
      "\n",
      "Epoch 00008: loss improved from 0.57544 to 0.57111, saving model to weights_08_0.6670.hdf5\n",
      "Epoch 9/50\n",
      "80726/80726 [==============================] - 1432s 18ms/step - loss: 0.5660 - acc: 0.7194 - val_loss: 0.6330 - val_acc: 0.6458\n",
      "\n",
      "Epoch 00009: loss improved from 0.57111 to 0.56596, saving model to weights_09_0.6458.hdf5\n",
      "Epoch 10/50\n",
      "80726/80726 [==============================] - 1433s 18ms/step - loss: 0.5577 - acc: 0.7258 - val_loss: 0.6410 - val_acc: 0.6792\n",
      "\n",
      "Epoch 00010: loss improved from 0.56596 to 0.55769, saving model to weights_10_0.6792.hdf5\n",
      "Epoch 11/50\n",
      "80726/80726 [==============================] - 1434s 18ms/step - loss: 0.5514 - acc: 0.7295 - val_loss: 0.6136 - val_acc: 0.6706\n",
      "\n",
      "Epoch 00011: loss improved from 0.55769 to 0.55139, saving model to weights_11_0.6706.hdf5\n",
      "Epoch 12/50\n",
      "52608/80726 [==================>...........] - ETA: 7:37 - loss: 0.5409 - acc: 0.7367"
     ]
    }
   ],
   "source": [
    "batch_size = 64\n",
    "nb_epoch = 50\n",
    "\n",
    "model.fit(X_train, y_train, batch_size=batch_size, epochs=nb_epoch,\n",
    "          verbose=1,\n",
    "          validation_split=0.2,\n",
    "          callbacks=[checkpoint, early]\n",
    "          )"
   ]
  },
  {
   "cell_type": "code",
   "execution_count": null,
   "metadata": {},
   "outputs": [],
   "source": [
    "from sklearn.metrics import precision_score, recall_score, f1_score\n",
    "\n",
    "print(\"Predicting\")\n",
    "y_pred = model.predict(X_test)\n",
    "print(y_test.shape, y_pred.shape)"
   ]
  },
  {
   "cell_type": "code",
   "execution_count": null,
   "metadata": {},
   "outputs": [],
   "source": [
    "# y_test = np.argmax(y_test, axis=1)\n",
    "y_pred = np.argmax(y_pred, axis=1)\n",
    "\n",
    "precision = precision_score(y_test, y_pred, average='weighted')\n",
    "recall = recall_score(y_test, y_pred, average='weighted')\n",
    "f1 = f1_score(y_test, y_pred, average=\"weighted\")\n",
    "print(\"Precision: \", precision)\n",
    "print(\"Recall: \", recall)\n",
    "print(\"F1: \", f1)"
   ]
  },
  {
   "cell_type": "code",
   "execution_count": null,
   "metadata": {},
   "outputs": [],
   "source": [
    "model.save('./model-20181012.h5')"
   ]
  },
  {
   "cell_type": "code",
   "execution_count": null,
   "metadata": {},
   "outputs": [],
   "source": []
  }
 ],
 "metadata": {
  "kernelspec": {
   "display_name": "Python 3",
   "language": "python",
   "name": "python3"
  },
  "language_info": {
   "codemirror_mode": {
    "name": "ipython",
    "version": 3
   },
   "file_extension": ".py",
   "mimetype": "text/x-python",
   "name": "python",
   "nbconvert_exporter": "python",
   "pygments_lexer": "ipython3",
   "version": "3.6.6"
  }
 },
 "nbformat": 4,
 "nbformat_minor": 2
}
