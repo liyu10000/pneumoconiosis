{
 "cells": [
  {
   "cell_type": "markdown",
   "metadata": {},
   "source": [
    "### Goal\n",
    "The goal of this notebook is to make a much easier to use dataset out of the Chest X-Ray collection. The idea is to have something akin to MNIST or Fashion MNIST for medical images. For this we will preprocess, normalize and down-scale the images. Additionally all of the images will be packed into a single hdf5 to make it easier to use them for other tasks."
   ]
  },
  {
   "cell_type": "code",
   "execution_count": 1,
   "metadata": {},
   "outputs": [],
   "source": [
    "import numpy as np\n",
    "import pandas as pd\n",
    "import os\n",
    "%matplotlib inline\n",
    "import matplotlib.pyplot as plt"
   ]
  },
  {
   "cell_type": "code",
   "execution_count": 2,
   "metadata": {},
   "outputs": [
    {
     "name": "stdout",
     "output_type": "stream",
     "text": [
      "Scans found: 112120, total headers: 112120\n"
     ]
    },
    {
     "data": {
      "text/html": [
       "<div>\n",
       "<style scoped>\n",
       "    .dataframe tbody tr th:only-of-type {\n",
       "        vertical-align: middle;\n",
       "    }\n",
       "\n",
       "    .dataframe tbody tr th {\n",
       "        vertical-align: top;\n",
       "    }\n",
       "\n",
       "    .dataframe thead th {\n",
       "        text-align: right;\n",
       "    }\n",
       "</style>\n",
       "<table border=\"1\" class=\"dataframe\">\n",
       "  <thead>\n",
       "    <tr style=\"text-align: right;\">\n",
       "      <th></th>\n",
       "      <th>Image Index</th>\n",
       "      <th>Finding Labels</th>\n",
       "      <th>Follow-up #</th>\n",
       "      <th>Patient ID</th>\n",
       "      <th>Patient Age</th>\n",
       "      <th>Patient Gender</th>\n",
       "      <th>View Position</th>\n",
       "      <th>OriginalImage[Width</th>\n",
       "      <th>Height]</th>\n",
       "      <th>OriginalImagePixelSpacing[x</th>\n",
       "      <th>y]</th>\n",
       "      <th>Unnamed: 11</th>\n",
       "      <th>path</th>\n",
       "    </tr>\n",
       "  </thead>\n",
       "  <tbody>\n",
       "    <tr>\n",
       "      <th>23403</th>\n",
       "      <td>00006204_000.png</td>\n",
       "      <td>No Finding</td>\n",
       "      <td>0</td>\n",
       "      <td>6204</td>\n",
       "      <td>73</td>\n",
       "      <td>F</td>\n",
       "      <td>PA</td>\n",
       "      <td>2048</td>\n",
       "      <td>2500</td>\n",
       "      <td>0.171</td>\n",
       "      <td>0.171</td>\n",
       "      <td>NaN</td>\n",
       "      <td>../../images/00006204_000.png</td>\n",
       "    </tr>\n",
       "    <tr>\n",
       "      <th>82853</th>\n",
       "      <td>00020364_000.png</td>\n",
       "      <td>Infiltration</td>\n",
       "      <td>0</td>\n",
       "      <td>20364</td>\n",
       "      <td>49</td>\n",
       "      <td>M</td>\n",
       "      <td>PA</td>\n",
       "      <td>2992</td>\n",
       "      <td>2991</td>\n",
       "      <td>0.143</td>\n",
       "      <td>0.143</td>\n",
       "      <td>NaN</td>\n",
       "      <td>../../images/00020364_000.png</td>\n",
       "    </tr>\n",
       "    <tr>\n",
       "      <th>22937</th>\n",
       "      <td>00006053_000.png</td>\n",
       "      <td>No Finding</td>\n",
       "      <td>0</td>\n",
       "      <td>6053</td>\n",
       "      <td>23</td>\n",
       "      <td>F</td>\n",
       "      <td>AP</td>\n",
       "      <td>2500</td>\n",
       "      <td>2048</td>\n",
       "      <td>0.168</td>\n",
       "      <td>0.168</td>\n",
       "      <td>NaN</td>\n",
       "      <td>../../images/00006053_000.png</td>\n",
       "    </tr>\n",
       "  </tbody>\n",
       "</table>\n",
       "</div>"
      ],
      "text/plain": [
       "            Image Index Finding Labels  Follow-up #  Patient ID  Patient Age  \\\n",
       "23403  00006204_000.png     No Finding            0        6204           73   \n",
       "82853  00020364_000.png   Infiltration            0       20364           49   \n",
       "22937  00006053_000.png     No Finding            0        6053           23   \n",
       "\n",
       "      Patient Gender View Position  OriginalImage[Width  Height]  \\\n",
       "23403              F            PA                 2048     2500   \n",
       "82853              M            PA                 2992     2991   \n",
       "22937              F            AP                 2500     2048   \n",
       "\n",
       "       OriginalImagePixelSpacing[x     y]  Unnamed: 11  \\\n",
       "23403                        0.171  0.171          NaN   \n",
       "82853                        0.143  0.143          NaN   \n",
       "22937                        0.168  0.168          NaN   \n",
       "\n",
       "                                path  \n",
       "23403  ../../images/00006204_000.png  \n",
       "82853  ../../images/00020364_000.png  \n",
       "22937  ../../images/00006053_000.png  "
      ]
     },
     "execution_count": 2,
     "metadata": {},
     "output_type": "execute_result"
    }
   ],
   "source": [
    "df = pd.read_csv('../../CHESTXRAY/Data_Entry_2017.csv')\n",
    "image_dir = '../../images'\n",
    "image_path = {f:os.path.join(image_dir,f) for f in os.listdir(image_dir)}\n",
    "print(\"Scans found: {}, total headers: {}\".format(len(image_path), df.shape[0]))\n",
    "df['path'] = df['Image Index'].map(image_path.get)\n",
    "# note: df['Patient Age'] has value larger than 100\n",
    "df.sample(3)"
   ]
  },
  {
   "cell_type": "markdown",
   "metadata": {},
   "source": [
    "### raw data display and one-hot encoding"
   ]
  },
  {
   "cell_type": "code",
   "execution_count": 3,
   "metadata": {},
   "outputs": [
    {
     "data": {
      "image/png": "[encoded data removed]",
      "text/plain": [
       "<Figure size 864x432 with 1 Axes>"
      ]
     },
     "metadata": {},
     "output_type": "display_data"
    }
   ],
   "source": [
    "label_counts = df['Finding Labels'].value_counts()[:15]\n",
    "fig, ax1 = plt.subplots(1,1,figsize = (12, 6))\n",
    "ax1.bar(np.arange(len(label_counts))+0.5, label_counts)\n",
    "ax1.set_xticks(np.arange(len(label_counts))+0.5)\n",
    "_ = ax1.set_xticklabels(label_counts.index, rotation = 90)"
   ]
  },
  {
   "cell_type": "code",
   "execution_count": 4,
   "metadata": {},
   "outputs": [
    {
     "name": "stdout",
     "output_type": "stream",
     "text": [
      "15 ['Atelectasis' 'Cardiomegaly' 'Consolidation' 'Edema' 'Effusion'\n",
      " 'Emphysema' 'Fibrosis' 'Hernia' 'Infiltration' 'Mass' 'No Finding'\n",
      " 'Nodule' 'Pleural_Thickening' 'Pneumonia' 'Pneumothorax']\n"
     ]
    },
    {
     "data": {
      "text/html": [
       "<div>\n",
       "<style scoped>\n",
       "    .dataframe tbody tr th:only-of-type {\n",
       "        vertical-align: middle;\n",
       "    }\n",
       "\n",
       "    .dataframe tbody tr th {\n",
       "        vertical-align: top;\n",
       "    }\n",
       "\n",
       "    .dataframe thead th {\n",
       "        text-align: right;\n",
       "    }\n",
       "</style>\n",
       "<table border=\"1\" class=\"dataframe\">\n",
       "  <thead>\n",
       "    <tr style=\"text-align: right;\">\n",
       "      <th></th>\n",
       "      <th>Image Index</th>\n",
       "      <th>Finding Labels</th>\n",
       "      <th>Follow-up #</th>\n",
       "      <th>Patient ID</th>\n",
       "      <th>Patient Age</th>\n",
       "      <th>Patient Gender</th>\n",
       "      <th>View Position</th>\n",
       "      <th>OriginalImage[Width</th>\n",
       "      <th>Height]</th>\n",
       "      <th>OriginalImagePixelSpacing[x</th>\n",
       "      <th>...</th>\n",
       "      <th>Emphysema</th>\n",
       "      <th>Fibrosis</th>\n",
       "      <th>Hernia</th>\n",
       "      <th>Infiltration</th>\n",
       "      <th>Mass</th>\n",
       "      <th>No Finding</th>\n",
       "      <th>Nodule</th>\n",
       "      <th>Pleural_Thickening</th>\n",
       "      <th>Pneumonia</th>\n",
       "      <th>Pneumothorax</th>\n",
       "    </tr>\n",
       "  </thead>\n",
       "  <tbody>\n",
       "    <tr>\n",
       "      <th>32783</th>\n",
       "      <td>00008570_000.png</td>\n",
       "      <td>No Finding</td>\n",
       "      <td>0</td>\n",
       "      <td>8570</td>\n",
       "      <td>24</td>\n",
       "      <td>F</td>\n",
       "      <td>PA</td>\n",
       "      <td>2048</td>\n",
       "      <td>2500</td>\n",
       "      <td>0.168</td>\n",
       "      <td>...</td>\n",
       "      <td>0</td>\n",
       "      <td>0</td>\n",
       "      <td>0</td>\n",
       "      <td>0</td>\n",
       "      <td>0</td>\n",
       "      <td>1</td>\n",
       "      <td>0</td>\n",
       "      <td>0</td>\n",
       "      <td>0</td>\n",
       "      <td>0</td>\n",
       "    </tr>\n",
       "    <tr>\n",
       "      <th>53991</th>\n",
       "      <td>00013615_002.png</td>\n",
       "      <td>No Finding</td>\n",
       "      <td>2</td>\n",
       "      <td>13615</td>\n",
       "      <td>9</td>\n",
       "      <td>F</td>\n",
       "      <td>AP</td>\n",
       "      <td>2500</td>\n",
       "      <td>2048</td>\n",
       "      <td>0.168</td>\n",
       "      <td>...</td>\n",
       "      <td>0</td>\n",
       "      <td>0</td>\n",
       "      <td>0</td>\n",
       "      <td>0</td>\n",
       "      <td>0</td>\n",
       "      <td>1</td>\n",
       "      <td>0</td>\n",
       "      <td>0</td>\n",
       "      <td>0</td>\n",
       "      <td>0</td>\n",
       "    </tr>\n",
       "    <tr>\n",
       "      <th>36443</th>\n",
       "      <td>00009608_039.png</td>\n",
       "      <td>Infiltration|Mass</td>\n",
       "      <td>39</td>\n",
       "      <td>9608</td>\n",
       "      <td>30</td>\n",
       "      <td>M</td>\n",
       "      <td>AP</td>\n",
       "      <td>2500</td>\n",
       "      <td>2048</td>\n",
       "      <td>0.168</td>\n",
       "      <td>...</td>\n",
       "      <td>0</td>\n",
       "      <td>0</td>\n",
       "      <td>0</td>\n",
       "      <td>1</td>\n",
       "      <td>1</td>\n",
       "      <td>0</td>\n",
       "      <td>0</td>\n",
       "      <td>0</td>\n",
       "      <td>0</td>\n",
       "      <td>0</td>\n",
       "    </tr>\n",
       "  </tbody>\n",
       "</table>\n",
       "<p>3 rows × 28 columns</p>\n",
       "</div>"
      ],
      "text/plain": [
       "            Image Index     Finding Labels  Follow-up #  Patient ID  \\\n",
       "32783  00008570_000.png         No Finding            0        8570   \n",
       "53991  00013615_002.png         No Finding            2       13615   \n",
       "36443  00009608_039.png  Infiltration|Mass           39        9608   \n",
       "\n",
       "       Patient Age Patient Gender View Position  OriginalImage[Width  Height]  \\\n",
       "32783           24              F            PA                 2048     2500   \n",
       "53991            9              F            AP                 2500     2048   \n",
       "36443           30              M            AP                 2500     2048   \n",
       "\n",
       "       OriginalImagePixelSpacing[x      ...       Emphysema  Fibrosis Hernia  \\\n",
       "32783                        0.168      ...               0         0      0   \n",
       "53991                        0.168      ...               0         0      0   \n",
       "36443                        0.168      ...               0         0      0   \n",
       "\n",
       "       Infiltration  Mass  No Finding  Nodule  Pleural_Thickening  Pneumonia  \\\n",
       "32783             0     0           1       0                   0          0   \n",
       "53991             0     0           1       0                   0          0   \n",
       "36443             1     1           0       0                   0          0   \n",
       "\n",
       "       Pneumothorax  \n",
       "32783             0  \n",
       "53991             0  \n",
       "36443             0  \n",
       "\n",
       "[3 rows x 28 columns]"
      ]
     },
     "execution_count": 4,
     "metadata": {},
     "output_type": "execute_result"
    }
   ],
   "source": [
    "from itertools import chain\n",
    "all_labels = np.unique(list(chain(*df['Finding Labels'].map(lambda x: x.split('|')).tolist())))\n",
    "print(len(all_labels), all_labels)\n",
    "for c_label in all_labels:\n",
    "    df[c_label] = df['Finding Labels'].map(lambda finding: 1 if c_label in finding else 0)\n",
    "df.sample(3)"
   ]
  },
  {
   "cell_type": "markdown",
   "metadata": {},
   "source": [
    "### create HDF5\n",
    "Here we create an HDF5 with all the relevant label information inside. We can add images later."
   ]
  },
  {
   "cell_type": "code",
   "execution_count": 5,
   "metadata": {
    "collapsed": true
   },
   "outputs": [
    {
     "name": "stderr",
     "output_type": "stream",
     "text": [
      "/usr/local/lib/python3.5/dist-packages/h5py/__init__.py:36: FutureWarning: Conversion of the second argument of issubdtype from `float` to `np.floating` is deprecated. In future, it will be treated as `np.float64 == np.dtype(float).type`.\n",
      "  from ._conv import register_converters as _register_converters\n",
      "100%|██████████| 28/28 [00:03<00:00,  7.81it/s]\n"
     ]
    }
   ],
   "source": [
    "import h5py\n",
    "from tqdm import tqdm\n",
    "\n",
    "def write_df_as_hdf(out_path,\n",
    "                    out_df,\n",
    "                    compression='gzip'):\n",
    "    with h5py.File(out_path, 'w') as h:\n",
    "        for k, arr_dict in tqdm(out_df.to_dict().items()):\n",
    "            try:\n",
    "                s_data = np.stack(arr_dict.values(), 0)\n",
    "                try:\n",
    "                    h.create_dataset(k, data=s_data, compression=\n",
    "                    compression)\n",
    "                except TypeError as e:\n",
    "                    try:\n",
    "                        h.create_dataset(k, data=s_data.astype(np.string_),\n",
    "                                         compression=compression)\n",
    "                    except TypeError as e2:\n",
    "                        print('%s could not be added to hdf5, %s' % (\n",
    "                            k, repr(e), repr(e2)))\n",
    "            except ValueError as e:\n",
    "                print('%s could not be created, %s' % (k, repr(e)))\n",
    "                all_shape = [np.shape(x) for x in arr_dict.values()]\n",
    "                warn('Input shapes: {}'.format(all_shape))\n",
    "\n",
    "write_df_as_hdf('./chest_xray.h5', df)"
   ]
  },
  {
   "cell_type": "code",
   "execution_count": 6,
   "metadata": {
    "collapsed": true
   },
   "outputs": [
    {
     "name": "stdout",
     "output_type": "stream",
     "text": [
      "Atelectasis (112120,) int64\n",
      "Cardiomegaly (112120,) int64\n",
      "Consolidation (112120,) int64\n",
      "Edema (112120,) int64\n",
      "Effusion (112120,) int64\n",
      "Emphysema (112120,) int64\n",
      "Fibrosis (112120,) int64\n",
      "Finding Labels (112120,) |S100\n",
      "Follow-up # (112120,) int64\n",
      "Height] (112120,) int64\n",
      "Hernia (112120,) int64\n",
      "Image Index (112120,) |S16\n",
      "Infiltration (112120,) int64\n",
      "Mass (112120,) int64\n",
      "No Finding (112120,) int64\n",
      "Nodule (112120,) int64\n",
      "OriginalImagePixelSpacing[x (112120,) float64\n",
      "OriginalImage[Width (112120,) int64\n",
      "Patient Age (112120,) int64\n",
      "Patient Gender (112120,) |S1\n",
      "Patient ID (112120,) int64\n",
      "Pleural_Thickening (112120,) int64\n",
      "Pneumonia (112120,) int64\n",
      "Pneumothorax (112120,) int64\n",
      "Unnamed: 11 (112120,) float64\n",
      "View Position (112120,) |S2\n",
      "path (112120,) |S29\n",
      "y] (112120,) float64\n"
     ]
    }
   ],
   "source": [
    "# show what is inside\n",
    "with h5py.File('chest_xray.h5', 'r') as h5_data:\n",
    "    for c_key in h5_data.keys():\n",
    "        print(c_key, h5_data[c_key].shape, h5_data[c_key].dtype)"
   ]
  },
  {
   "cell_type": "markdown",
   "metadata": {},
   "source": [
    "### Preprocessing images\n",
    "Since the images all look a bit different we use a standard CLAHE algorithm to equalize the histograms in them. We then downscale to 256x256."
   ]
  },
  {
   "cell_type": "code",
   "execution_count": 14,
   "metadata": {},
   "outputs": [],
   "source": [
    "# from skimage.transform import resize\n",
    "# from cv2 import imread, createCLAHE # read and equalize images\n",
    "# OUT_DIM = (224, 224)\n",
    "# def imread_and_normalize(im_path):\n",
    "#     clahe_tool = createCLAHE(clipLimit=2.0, tileGridSize=(8,8))\n",
    "#     img_data = np.mean(imread(im_path), 2).astype(np.uint8)\n",
    "#     img_data = clahe_tool.apply(img_data)\n",
    "#     n_img = (255*resize(img_data, OUT_DIM, mode = 'constant')).clip(0,255).astype(np.uint8)\n",
    "#     return np.expand_dims(n_img, -1)\n",
    "\n",
    "# test_img = imread_and_normalize(df['path'].values[0])\n",
    "# plt.matshow(test_img[:,:,0])\n",
    "\n",
    "from keras.preprocessing.image import load_img, img_to_array\n",
    "\n",
    "OUT_DIM = (224, 224)\n",
    "def imread_and_normalize(im_path, size=OUT_DIM):\n",
    "    image = load_img(im_path, target_size=size)\n",
    "#     print(\"PIL image size\", image.size)\n",
    "#     plt.imshow(image)\n",
    "#     plt.show()\n",
    "    np_image = img_to_array(image)\n",
    "#     np_image = (np_image - np.asarray([0.485, 0.456, 0.406])) / (np.asarray([0.229, 0.224, 0.225]))\n",
    "    np_image = (np_image - np.asarray([0.406, 0.456, 0.485])) / (np.asarray([0.225, 0.224, 0.229]))\n",
    "#     print(\"numpy array size\", np_image.shape)\n",
    "#     plt.imshow(np.uint8(np_image))\n",
    "#     plt.show()\n",
    "    batch_image = np.expand_dims(np_image, axis=0)\n",
    "#     print(\"image batch size\", batch_image.shape)\n",
    "#     plt.imshow(np.uint8(batch_image[0]))\n",
    "#     plt.show()\n",
    "    return batch_image\n",
    "    \n",
    "test_img = imread_and_normalize(df['path'].values[0])"
   ]
  },
  {
   "cell_type": "code",
   "execution_count": 15,
   "metadata": {},
   "outputs": [],
   "source": [
    "# preallocate output\n",
    "out_image_arr = np.zeros((df.shape[0],)+OUT_DIM+(3,), dtype=np.uint8)"
   ]
  },
  {
   "cell_type": "code",
   "execution_count": 16,
   "metadata": {},
   "outputs": [
    {
     "name": "stderr",
     "output_type": "stream",
     "text": [
      "100%|██████████| 112120/112120 [36:31<00:00, 51.16it/s]\n"
     ]
    }
   ],
   "source": [
    "# append image array\n",
    "for i, c_path in enumerate(tqdm(df['path'].values)):\n",
    "    out_image_arr[i] = imread_and_normalize(c_path)"
   ]
  },
  {
   "cell_type": "code",
   "execution_count": 17,
   "metadata": {
    "collapsed": true
   },
   "outputs": [
    {
     "name": "stdout",
     "output_type": "stream",
     "text": [
      "Atelectasis (112120,) int64\n",
      "Cardiomegaly (112120,) int64\n",
      "Consolidation (112120,) int64\n",
      "Edema (112120,) int64\n",
      "Effusion (112120,) int64\n",
      "Emphysema (112120,) int64\n",
      "Fibrosis (112120,) int64\n",
      "Finding Labels (112120,) |S100\n",
      "Follow-up # (112120,) int64\n",
      "Height] (112120,) int64\n",
      "Hernia (112120,) int64\n",
      "Image Index (112120,) |S16\n",
      "Infiltration (112120,) int64\n",
      "Mass (112120,) int64\n",
      "No Finding (112120,) int64\n",
      "Nodule (112120,) int64\n",
      "OriginalImagePixelSpacing[x (112120,) float64\n",
      "OriginalImage[Width (112120,) int64\n",
      "Patient Age (112120,) int64\n",
      "Patient Gender (112120,) |S1\n",
      "Patient ID (112120,) int64\n",
      "Pleural_Thickening (112120,) int64\n",
      "Pneumonia (112120,) int64\n",
      "Pneumothorax (112120,) int64\n",
      "Unnamed: 11 (112120,) float64\n",
      "View Position (112120,) |S2\n",
      "images (112120, 224, 224, 3) uint8\n",
      "path (112120,) |S29\n",
      "y] (112120,) float64\n"
     ]
    }
   ],
   "source": [
    "# write file\n",
    "with h5py.File('chest_xray.h5', 'a') as h5_data:\n",
    "    h5_data.create_dataset('images', data=out_image_arr, compression=None) # compression takes too long\n",
    "    for c_key in h5_data.keys():\n",
    "        print(c_key, h5_data[c_key].shape, h5_data[c_key].dtype)"
   ]
  },
  {
   "cell_type": "code",
   "execution_count": 18,
   "metadata": {},
   "outputs": [
    {
     "name": "stdout",
     "output_type": "stream",
     "text": [
      "Output File-size 16878.96MB\n"
     ]
    }
   ],
   "source": [
    "print('Output File-size %2.2fMB' % (os.path.getsize('chest_xray.h5')/1e6))"
   ]
  },
  {
   "cell_type": "code",
   "execution_count": null,
   "metadata": {},
   "outputs": [],
   "source": []
  }
 ],
 "metadata": {
  "kernelspec": {
   "display_name": "Python 3",
   "language": "python",
   "name": "python3"
  },
  "language_info": {
   "codemirror_mode": {
    "name": "ipython",
    "version": 3
   },
   "file_extension": ".py",
   "mimetype": "text/x-python",
   "name": "python",
   "nbconvert_exporter": "python",
   "pygments_lexer": "ipython3",
   "version": "3.5.2"
  }
 },
 "nbformat": 4,
 "nbformat_minor": 2
}
